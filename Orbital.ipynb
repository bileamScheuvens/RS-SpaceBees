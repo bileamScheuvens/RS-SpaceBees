{
 "cells": [
  {
   "cell_type": "code",
   "execution_count": 175,
   "metadata": {},
   "outputs": [],
   "source": [
    "# Useful for defining quantities\n",
    "from astropy import units as u\n",
    "from astropy.coordinates import cartesian_to_spherical\n",
    "\n",
    "# Earth focused modules, ISS example orbit and time span generator\n",
    "from poliastro.earth import EarthSatellite\n",
    "from poliastro.earth.plotting import GroundtrackPlotter\n",
    "from poliastro.twobody import Orbit\n",
    "from poliastro.spacecraft import Spacecraft\n",
    "from poliastro.examples import iss\n",
    "from poliastro.util import time_range\n",
    "from poliastro.bodies import Earth"
   ]
  },
  {
   "cell_type": "code",
   "execution_count": 130,
   "metadata": {},
   "outputs": [],
   "source": [
    "import numpy as np\n",
    "import matplotlib.pyplot as plt\n",
    "from scipy import interpolate"
   ]
  },
  {
   "cell_type": "code",
   "execution_count": 2,
   "metadata": {},
   "outputs": [],
   "source": [
    "from ipywidgets import interact, interactive, fixed, interact_manual, FloatSlider, IntSlider\n",
    "import ipywidgets as widgets"
   ]
  },
  {
   "cell_type": "code",
   "execution_count": 25,
   "metadata": {},
   "outputs": [],
   "source": [
    "radius_E = 6400"
   ]
  },
  {
   "cell_type": "code",
   "execution_count": 107,
   "metadata": {},
   "outputs": [],
   "source": [
    "store = lambda: None"
   ]
  },
  {
   "cell_type": "code",
   "execution_count": 237,
   "metadata": {},
   "outputs": [
    {
     "data": {
      "application/vnd.jupyter.widget-view+json": {
       "model_id": "0171da4e19634c5a9377ae8ed9f6a70e",
       "version_major": 2,
       "version_minor": 0
      },
      "text/plain": [
       "interactive(children=(FloatSlider(value=11500.0, continuous_update=False, description='h', max=19000.0, min=70…"
      ]
     },
     "metadata": {},
     "output_type": "display_data"
    }
   ],
   "source": [
    "@interact(h=FloatSlider(min=7000, max=19000,value=11500, step=100, continuous_update=False),\n",
    "          i=FloatSlider(min=0, max=90, step=1, continuous_update=False),\n",
    "          duration=IntSlider(min=20, max=2000, step=10, continuous_update=False),\n",
    "          max_day_bn_rep=IntSlider(value=2,min=1, max=30, step=1, continuous_update=False))\n",
    "def groundtract(h, i, duration,max_day_bn_rep):\n",
    "    # Build spacecraft instance\n",
    "    a = (radius_E+h) * u.km\n",
    "    ecc = 0 * u.one\n",
    "    inc = i * u.deg\n",
    "    raan = 0 * u.deg\n",
    "    argp = 0 * u.deg\n",
    "    nu = 0 * u.deg\n",
    "    orb = Orbit.from_classical(Earth, a, ecc, inc, raan, argp, nu)\n",
    "    print(\"Original period: \", orb.period.to(u.h))\n",
    "    #adjust to integer orbits in a day\n",
    "    T_E =  Earth.rotational_period.to(u.s)\n",
    "    ratio =T_E/orb.period \n",
    "    ratio = np.floor(max_day_bn_rep*ratio)/float(max_day_bn_rep)*u.one\n",
    "    new_period = T_E/ratio\n",
    "    a = (Earth.k*(new_period/2/np.pi)**2)**(1./3)\n",
    "    orb = Orbit.from_classical(Earth, a, ecc, inc, raan, argp, nu)\n",
    "\n",
    "    print(\"Adjusted period: \", orb.period.to(u.h), \"Adjusted altitude: \", (a - radius_E*u.km).to(u.km))\n",
    "    sat = EarthSatellite(orb, None)\n",
    "    t_span = time_range(orb.epoch, periods=5*duration, end= orb.epoch + duration*u.h)\n",
    "    gp = GroundtrackPlotter()\n",
    "    gp.update_layout(title=\"Groundtrack\")\n",
    "\n",
    "    # Plot previously defined EarthSatellite object\n",
    "    gp.plot(\n",
    "        sat,\n",
    "        t_span,\n",
    "        label=\"Sat\",\n",
    "        color = \"red\",\n",
    "    )\n",
    "    store.gp_groundtract = gp\n",
    "    store.sat = sat\n",
    "    store.t_span = t_span\n",
    "    store.t_end = duration*u.h\n",
    "    gp.fig.show()"
   ]
  },
  {
   "cell_type": "code",
   "execution_count": 112,
   "metadata": {},
   "outputs": [
    {
     "data": {
      "application/vnd.plotly.v1+json": {
       "config": {
        "plotlyServerURL": "https://plot.ly"
       },
       "data": [
        {
         "type": "scattergeo"
        },
        {
         "lat": [
          -0.0014427539668810689,
          -0.001709098603172899,
          -0.0019150008852747437,
          -0.002053373292082384,
          -0.002119478035505794,
          -0.002111089780434793,
          -0.002028571165516084,
          -0.0018748588100596705,
          -0.0016553605323766933,
          -0.0013777677942232926,
          -0.0010517882085227612,
          -0.0006888095617692438,
          -0.0003015051024870152,
          9.660527150610929e-05,
          0.0004916230114780947,
          0.0008697522603965238,
          0.0012177776365253294,
          0.0015235218256519788,
          0.001776267877841508,
          0.0019671308474811713,
          0.002089366394512823,
          0.002138605669105215,
          0.0021130083500527593,
          0.0020133282752189882,
          0.0018428894251928767,
          0.0016074741575682278,
          0.0013151250299826421,
          0.0009758698779160638,
          0.0006013772689100731,
          0.0002045556319865587,
          -0.00020089071141622875,
          -0.0006009337187629666,
          -0.000981705152376867,
          -0.0013299748557638344,
          -0.001633607846968172,
          -0.0018819840719604202,
          -0.0020663662210802583,
          -0.0021802035392782266,
          -0.002219360431174423,
          -0.002182262291151035,
          -0.0020699536716468126,
          -0.0018860662439267113,
          -0.0016366980491641986,
          -0.0013302077293704628,
          -0.0009769311712453923,
          -0.000588829859132867,
          -0.00017908291637508302,
          0.00023836249157606652,
          0.0006492683503967267,
          0.001039592619930215,
          0.0013959703393158543,
          0.0017061716714653781,
          0.0019595220516064908,
          0.002147268324254673,
          0.0022628811061549538,
          0.0023022792653537125,
          0.002263972973032507,
          0.002149116474450046,
          0.001961471379744443,
          0.0017072808547019952,
          0.0013950581310296236,
          0.0010352987148142697,
          0.0006401233877702525,
          0.00022286629192969795,
          -0.0002023791300657892,
          -0.0006212396279121861,
          -0.0010195517725902284,
          -0.0013838442505048065,
          -0.0017017969345599871,
          -0.0019626604958361948,
          -0.0021576223275224598,
          -0.002280106667053086,
          -0.0023259981337211766,
          -0.002293781474147279,
          -0.0021845922860790506,
          -0.0020021774902842997,
          -0.0017527666805928937,
          -0.0014448587247311516,
          -0.0010889309004555507,
          -0.0006970811097916333,
          -0.0002826142570575157,
          0.00014041170532500132,
          0.0005576656205084978,
          0.0009550316062983582,
          0.001319089895428673,
          0.0016375740532937372,
          0.001899787501127098,
          0.0020969668763904797,
          0.002222578218282699,
          0.0022725376260186694,
          0.0022453468068624155,
          0.002142141039855757,
          0.001966646354740234,
          0.0017250483509927822,
          0.0014257770211178055,
          0.0010792147762478715,
          0.0006973380175544535,
          0.00029330481259823776,
          -0.0001189980933056762,
          -0.0005254320502297368
         ],
         "line": {
          "color": "red"
         },
         "lon": [
          79.80606315997073,
          87.40256030800104,
          94.99905745874905,
          102.59555461164774,
          110.19205176589838,
          117.78854892053177,
          125.38504607462932,
          132.98154322701532,
          140.57804037734607,
          148.17453752478835,
          155.77103466959596,
          163.3675318120596,
          170.96402895291075,
          178.56052609272305,
          186.15702323313994,
          193.75352037448857,
          201.35001751801326,
          208.94651466399708,
          216.5430118128413,
          224.1395089641914,
          231.73600611752784,
          239.33250327211348,
          246.92900042672048,
          254.52549758050927,
          262.12199473258744,
          269.718491882191,
          277.3149890289245,
          284.91148617297455,
          292.5079833147522,
          300.1044804549044,
          307.70097759440705,
          315.29747473454273,
          322.89397187608023,
          330.490469019732,
          338.0869661662241,
          345.68346331560326,
          353.2799604676204,
          0.8764576215648058,
          8.47295477652992,
          16.069451931601492,
          23.665949085424593,
          31.262446237425408,
          38.858943386687244,
          46.45544053304021,
          54.051937676470374,
          61.648434817509695,
          69.24493195694671,
          76.84142909593562,
          84.43792623543405,
          92.03442337654707,
          99.6309205200319,
          107.2274176665161,
          114.82391481602865,
          122.42041196831691,
          130.01690912247392,
          137.61340627801508,
          145.2099034333896,
          152.80640058767534,
          160.40289773989366,
          167.9993948893516,
          175.59589203327513,
          183.1923891717711,
          190.78888630781267,
          198.38538344209147,
          205.98188057584684,
          213.5783777100646,
          221.17487484593107,
          228.77137198420473,
          236.36786912555476,
          243.9643662700414,
          251.56086341729906,
          259.1573605667213,
          266.7538577174966,
          274.35035486830213,
          281.9468520180488,
          289.5433491657838,
          297.139846310777,
          304.7363434527258,
          312.3328405915135,
          319.9293377278685,
          327.52583486234937,
          335.12233199630845,
          342.7188291305712,
          350.3153262663478,
          357.91182340428946,
          5.508320545429797,
          13.104817689598963,
          20.70131483648252,
          28.297811985603495,
          35.89430913592069,
          43.490806286539254,
          51.087303436118624,
          58.68380058385025,
          66.28029772901124,
          73.87679487114787,
          81.47329201039591,
          89.06978914722053,
          96.66628628233595,
          104.26278341674575,
          111.85928055160672
         ],
         "mode": "lines",
         "name": "Sat",
         "type": "scattergeo"
        },
        {
         "lat": [
          -0.0014427539668810689
         ],
         "lon": [
          79.80606315997073
         ],
         "marker": {
          "color": "red"
         },
         "name": "Sat",
         "showlegend": false,
         "type": "scattergeo"
        }
       ],
       "layout": {
        "geo": {
         "coastlinecolor": "Black",
         "landcolor": "#9fc164",
         "lataxis": {
          "gridcolor": "black",
          "showgrid": true
         },
         "lonaxis": {
          "gridcolor": "black",
          "showgrid": true
         },
         "oceancolor": "#b2d9ff",
         "projection": {
          "type": "orthographic"
         },
         "showcoastlines": true,
         "showlakes": false,
         "showland": true,
         "showocean": true,
         "showrivers": false
        },
        "template": {
         "data": {
          "bar": [
           {
            "error_x": {
             "color": "#2a3f5f"
            },
            "error_y": {
             "color": "#2a3f5f"
            },
            "marker": {
             "line": {
              "color": "#E5ECF6",
              "width": 0.5
             }
            },
            "type": "bar"
           }
          ],
          "barpolar": [
           {
            "marker": {
             "line": {
              "color": "#E5ECF6",
              "width": 0.5
             }
            },
            "type": "barpolar"
           }
          ],
          "carpet": [
           {
            "aaxis": {
             "endlinecolor": "#2a3f5f",
             "gridcolor": "white",
             "linecolor": "white",
             "minorgridcolor": "white",
             "startlinecolor": "#2a3f5f"
            },
            "baxis": {
             "endlinecolor": "#2a3f5f",
             "gridcolor": "white",
             "linecolor": "white",
             "minorgridcolor": "white",
             "startlinecolor": "#2a3f5f"
            },
            "type": "carpet"
           }
          ],
          "choropleth": [
           {
            "colorbar": {
             "outlinewidth": 0,
             "ticks": ""
            },
            "type": "choropleth"
           }
          ],
          "contour": [
           {
            "colorbar": {
             "outlinewidth": 0,
             "ticks": ""
            },
            "colorscale": [
             [
              0,
              "#0d0887"
             ],
             [
              0.1111111111111111,
              "#46039f"
             ],
             [
              0.2222222222222222,
              "#7201a8"
             ],
             [
              0.3333333333333333,
              "#9c179e"
             ],
             [
              0.4444444444444444,
              "#bd3786"
             ],
             [
              0.5555555555555556,
              "#d8576b"
             ],
             [
              0.6666666666666666,
              "#ed7953"
             ],
             [
              0.7777777777777778,
              "#fb9f3a"
             ],
             [
              0.8888888888888888,
              "#fdca26"
             ],
             [
              1,
              "#f0f921"
             ]
            ],
            "type": "contour"
           }
          ],
          "contourcarpet": [
           {
            "colorbar": {
             "outlinewidth": 0,
             "ticks": ""
            },
            "type": "contourcarpet"
           }
          ],
          "heatmap": [
           {
            "colorbar": {
             "outlinewidth": 0,
             "ticks": ""
            },
            "colorscale": [
             [
              0,
              "#0d0887"
             ],
             [
              0.1111111111111111,
              "#46039f"
             ],
             [
              0.2222222222222222,
              "#7201a8"
             ],
             [
              0.3333333333333333,
              "#9c179e"
             ],
             [
              0.4444444444444444,
              "#bd3786"
             ],
             [
              0.5555555555555556,
              "#d8576b"
             ],
             [
              0.6666666666666666,
              "#ed7953"
             ],
             [
              0.7777777777777778,
              "#fb9f3a"
             ],
             [
              0.8888888888888888,
              "#fdca26"
             ],
             [
              1,
              "#f0f921"
             ]
            ],
            "type": "heatmap"
           }
          ],
          "heatmapgl": [
           {
            "colorbar": {
             "outlinewidth": 0,
             "ticks": ""
            },
            "colorscale": [
             [
              0,
              "#0d0887"
             ],
             [
              0.1111111111111111,
              "#46039f"
             ],
             [
              0.2222222222222222,
              "#7201a8"
             ],
             [
              0.3333333333333333,
              "#9c179e"
             ],
             [
              0.4444444444444444,
              "#bd3786"
             ],
             [
              0.5555555555555556,
              "#d8576b"
             ],
             [
              0.6666666666666666,
              "#ed7953"
             ],
             [
              0.7777777777777778,
              "#fb9f3a"
             ],
             [
              0.8888888888888888,
              "#fdca26"
             ],
             [
              1,
              "#f0f921"
             ]
            ],
            "type": "heatmapgl"
           }
          ],
          "histogram": [
           {
            "marker": {
             "colorbar": {
              "outlinewidth": 0,
              "ticks": ""
             }
            },
            "type": "histogram"
           }
          ],
          "histogram2d": [
           {
            "colorbar": {
             "outlinewidth": 0,
             "ticks": ""
            },
            "colorscale": [
             [
              0,
              "#0d0887"
             ],
             [
              0.1111111111111111,
              "#46039f"
             ],
             [
              0.2222222222222222,
              "#7201a8"
             ],
             [
              0.3333333333333333,
              "#9c179e"
             ],
             [
              0.4444444444444444,
              "#bd3786"
             ],
             [
              0.5555555555555556,
              "#d8576b"
             ],
             [
              0.6666666666666666,
              "#ed7953"
             ],
             [
              0.7777777777777778,
              "#fb9f3a"
             ],
             [
              0.8888888888888888,
              "#fdca26"
             ],
             [
              1,
              "#f0f921"
             ]
            ],
            "type": "histogram2d"
           }
          ],
          "histogram2dcontour": [
           {
            "colorbar": {
             "outlinewidth": 0,
             "ticks": ""
            },
            "colorscale": [
             [
              0,
              "#0d0887"
             ],
             [
              0.1111111111111111,
              "#46039f"
             ],
             [
              0.2222222222222222,
              "#7201a8"
             ],
             [
              0.3333333333333333,
              "#9c179e"
             ],
             [
              0.4444444444444444,
              "#bd3786"
             ],
             [
              0.5555555555555556,
              "#d8576b"
             ],
             [
              0.6666666666666666,
              "#ed7953"
             ],
             [
              0.7777777777777778,
              "#fb9f3a"
             ],
             [
              0.8888888888888888,
              "#fdca26"
             ],
             [
              1,
              "#f0f921"
             ]
            ],
            "type": "histogram2dcontour"
           }
          ],
          "mesh3d": [
           {
            "colorbar": {
             "outlinewidth": 0,
             "ticks": ""
            },
            "type": "mesh3d"
           }
          ],
          "parcoords": [
           {
            "line": {
             "colorbar": {
              "outlinewidth": 0,
              "ticks": ""
             }
            },
            "type": "parcoords"
           }
          ],
          "pie": [
           {
            "automargin": true,
            "type": "pie"
           }
          ],
          "scatter": [
           {
            "marker": {
             "colorbar": {
              "outlinewidth": 0,
              "ticks": ""
             }
            },
            "type": "scatter"
           }
          ],
          "scatter3d": [
           {
            "line": {
             "colorbar": {
              "outlinewidth": 0,
              "ticks": ""
             }
            },
            "marker": {
             "colorbar": {
              "outlinewidth": 0,
              "ticks": ""
             }
            },
            "type": "scatter3d"
           }
          ],
          "scattercarpet": [
           {
            "marker": {
             "colorbar": {
              "outlinewidth": 0,
              "ticks": ""
             }
            },
            "type": "scattercarpet"
           }
          ],
          "scattergeo": [
           {
            "marker": {
             "colorbar": {
              "outlinewidth": 0,
              "ticks": ""
             }
            },
            "type": "scattergeo"
           }
          ],
          "scattergl": [
           {
            "marker": {
             "colorbar": {
              "outlinewidth": 0,
              "ticks": ""
             }
            },
            "type": "scattergl"
           }
          ],
          "scattermapbox": [
           {
            "marker": {
             "colorbar": {
              "outlinewidth": 0,
              "ticks": ""
             }
            },
            "type": "scattermapbox"
           }
          ],
          "scatterpolar": [
           {
            "marker": {
             "colorbar": {
              "outlinewidth": 0,
              "ticks": ""
             }
            },
            "type": "scatterpolar"
           }
          ],
          "scatterpolargl": [
           {
            "marker": {
             "colorbar": {
              "outlinewidth": 0,
              "ticks": ""
             }
            },
            "type": "scatterpolargl"
           }
          ],
          "scatterternary": [
           {
            "marker": {
             "colorbar": {
              "outlinewidth": 0,
              "ticks": ""
             }
            },
            "type": "scatterternary"
           }
          ],
          "surface": [
           {
            "colorbar": {
             "outlinewidth": 0,
             "ticks": ""
            },
            "colorscale": [
             [
              0,
              "#0d0887"
             ],
             [
              0.1111111111111111,
              "#46039f"
             ],
             [
              0.2222222222222222,
              "#7201a8"
             ],
             [
              0.3333333333333333,
              "#9c179e"
             ],
             [
              0.4444444444444444,
              "#bd3786"
             ],
             [
              0.5555555555555556,
              "#d8576b"
             ],
             [
              0.6666666666666666,
              "#ed7953"
             ],
             [
              0.7777777777777778,
              "#fb9f3a"
             ],
             [
              0.8888888888888888,
              "#fdca26"
             ],
             [
              1,
              "#f0f921"
             ]
            ],
            "type": "surface"
           }
          ],
          "table": [
           {
            "cells": {
             "fill": {
              "color": "#EBF0F8"
             },
             "line": {
              "color": "white"
             }
            },
            "header": {
             "fill": {
              "color": "#C8D4E3"
             },
             "line": {
              "color": "white"
             }
            },
            "type": "table"
           }
          ]
         },
         "layout": {
          "annotationdefaults": {
           "arrowcolor": "#2a3f5f",
           "arrowhead": 0,
           "arrowwidth": 1
          },
          "autotypenumbers": "strict",
          "coloraxis": {
           "colorbar": {
            "outlinewidth": 0,
            "ticks": ""
           }
          },
          "colorscale": {
           "diverging": [
            [
             0,
             "#8e0152"
            ],
            [
             0.1,
             "#c51b7d"
            ],
            [
             0.2,
             "#de77ae"
            ],
            [
             0.3,
             "#f1b6da"
            ],
            [
             0.4,
             "#fde0ef"
            ],
            [
             0.5,
             "#f7f7f7"
            ],
            [
             0.6,
             "#e6f5d0"
            ],
            [
             0.7,
             "#b8e186"
            ],
            [
             0.8,
             "#7fbc41"
            ],
            [
             0.9,
             "#4d9221"
            ],
            [
             1,
             "#276419"
            ]
           ],
           "sequential": [
            [
             0,
             "#0d0887"
            ],
            [
             0.1111111111111111,
             "#46039f"
            ],
            [
             0.2222222222222222,
             "#7201a8"
            ],
            [
             0.3333333333333333,
             "#9c179e"
            ],
            [
             0.4444444444444444,
             "#bd3786"
            ],
            [
             0.5555555555555556,
             "#d8576b"
            ],
            [
             0.6666666666666666,
             "#ed7953"
            ],
            [
             0.7777777777777778,
             "#fb9f3a"
            ],
            [
             0.8888888888888888,
             "#fdca26"
            ],
            [
             1,
             "#f0f921"
            ]
           ],
           "sequentialminus": [
            [
             0,
             "#0d0887"
            ],
            [
             0.1111111111111111,
             "#46039f"
            ],
            [
             0.2222222222222222,
             "#7201a8"
            ],
            [
             0.3333333333333333,
             "#9c179e"
            ],
            [
             0.4444444444444444,
             "#bd3786"
            ],
            [
             0.5555555555555556,
             "#d8576b"
            ],
            [
             0.6666666666666666,
             "#ed7953"
            ],
            [
             0.7777777777777778,
             "#fb9f3a"
            ],
            [
             0.8888888888888888,
             "#fdca26"
            ],
            [
             1,
             "#f0f921"
            ]
           ]
          },
          "colorway": [
           "#636efa",
           "#EF553B",
           "#00cc96",
           "#ab63fa",
           "#FFA15A",
           "#19d3f3",
           "#FF6692",
           "#B6E880",
           "#FF97FF",
           "#FECB52"
          ],
          "font": {
           "color": "#2a3f5f"
          },
          "geo": {
           "bgcolor": "white",
           "lakecolor": "white",
           "landcolor": "#E5ECF6",
           "showlakes": true,
           "showland": true,
           "subunitcolor": "white"
          },
          "hoverlabel": {
           "align": "left"
          },
          "hovermode": "closest",
          "mapbox": {
           "style": "light"
          },
          "paper_bgcolor": "white",
          "plot_bgcolor": "#E5ECF6",
          "polar": {
           "angularaxis": {
            "gridcolor": "white",
            "linecolor": "white",
            "ticks": ""
           },
           "bgcolor": "#E5ECF6",
           "radialaxis": {
            "gridcolor": "white",
            "linecolor": "white",
            "ticks": ""
           }
          },
          "scene": {
           "xaxis": {
            "backgroundcolor": "#E5ECF6",
            "gridcolor": "white",
            "gridwidth": 2,
            "linecolor": "white",
            "showbackground": true,
            "ticks": "",
            "zerolinecolor": "white"
           },
           "yaxis": {
            "backgroundcolor": "#E5ECF6",
            "gridcolor": "white",
            "gridwidth": 2,
            "linecolor": "white",
            "showbackground": true,
            "ticks": "",
            "zerolinecolor": "white"
           },
           "zaxis": {
            "backgroundcolor": "#E5ECF6",
            "gridcolor": "white",
            "gridwidth": 2,
            "linecolor": "white",
            "showbackground": true,
            "ticks": "",
            "zerolinecolor": "white"
           }
          },
          "shapedefaults": {
           "line": {
            "color": "#2a3f5f"
           }
          },
          "ternary": {
           "aaxis": {
            "gridcolor": "white",
            "linecolor": "white",
            "ticks": ""
           },
           "baxis": {
            "gridcolor": "white",
            "linecolor": "white",
            "ticks": ""
           },
           "bgcolor": "#E5ECF6",
           "caxis": {
            "gridcolor": "white",
            "linecolor": "white",
            "ticks": ""
           }
          },
          "title": {
           "x": 0.05
          },
          "xaxis": {
           "automargin": true,
           "gridcolor": "white",
           "linecolor": "white",
           "ticks": "",
           "title": {
            "standoff": 15
           },
           "zerolinecolor": "white",
           "zerolinewidth": 2
          },
          "yaxis": {
           "automargin": true,
           "gridcolor": "white",
           "linecolor": "white",
           "ticks": "",
           "title": {
            "standoff": 15
           },
           "zerolinecolor": "white",
           "zerolinewidth": 2
          }
         }
        },
        "title": {
         "text": "Groundtrack"
        }
       }
      },
      "text/html": [
       "<div>                            <div id=\"ebb20800-c043-469c-b7e6-c0569ba0ceaa\" class=\"plotly-graph-div\" style=\"height:525px; width:100%;\"></div>            <script type=\"text/javascript\">                require([\"plotly\"], function(Plotly) {                    window.PLOTLYENV=window.PLOTLYENV || {};                                    if (document.getElementById(\"ebb20800-c043-469c-b7e6-c0569ba0ceaa\")) {                    Plotly.newPlot(                        \"ebb20800-c043-469c-b7e6-c0569ba0ceaa\",                        [{\"type\": \"scattergeo\"}, {\"lat\": [-0.0014427539668810689, -0.001709098603172899, -0.0019150008852747437, -0.002053373292082384, -0.002119478035505794, -0.002111089780434793, -0.002028571165516084, -0.0018748588100596705, -0.0016553605323766933, -0.0013777677942232926, -0.0010517882085227612, -0.0006888095617692438, -0.0003015051024870152, 9.660527150610929e-05, 0.0004916230114780947, 0.0008697522603965238, 0.0012177776365253294, 0.0015235218256519788, 0.001776267877841508, 0.0019671308474811713, 0.002089366394512823, 0.002138605669105215, 0.0021130083500527593, 0.0020133282752189882, 0.0018428894251928767, 0.0016074741575682278, 0.0013151250299826421, 0.0009758698779160638, 0.0006013772689100731, 0.0002045556319865587, -0.00020089071141622875, -0.0006009337187629666, -0.000981705152376867, -0.0013299748557638344, -0.001633607846968172, -0.0018819840719604202, -0.0020663662210802583, -0.0021802035392782266, -0.002219360431174423, -0.002182262291151035, -0.0020699536716468126, -0.0018860662439267113, -0.0016366980491641986, -0.0013302077293704628, -0.0009769311712453923, -0.000588829859132867, -0.00017908291637508302, 0.00023836249157606652, 0.0006492683503967267, 0.001039592619930215, 0.0013959703393158543, 0.0017061716714653781, 0.0019595220516064908, 0.002147268324254673, 0.0022628811061549538, 0.0023022792653537125, 0.002263972973032507, 0.002149116474450046, 0.001961471379744443, 0.0017072808547019952, 0.0013950581310296236, 0.0010352987148142697, 0.0006401233877702525, 0.00022286629192969795, -0.0002023791300657892, -0.0006212396279121861, -0.0010195517725902284, -0.0013838442505048065, -0.0017017969345599871, -0.0019626604958361948, -0.0021576223275224598, -0.002280106667053086, -0.0023259981337211766, -0.002293781474147279, -0.0021845922860790506, -0.0020021774902842997, -0.0017527666805928937, -0.0014448587247311516, -0.0010889309004555507, -0.0006970811097916333, -0.0002826142570575157, 0.00014041170532500132, 0.0005576656205084978, 0.0009550316062983582, 0.001319089895428673, 0.0016375740532937372, 0.001899787501127098, 0.0020969668763904797, 0.002222578218282699, 0.0022725376260186694, 0.0022453468068624155, 0.002142141039855757, 0.001966646354740234, 0.0017250483509927822, 0.0014257770211178055, 0.0010792147762478715, 0.0006973380175544535, 0.00029330481259823776, -0.0001189980933056762, -0.0005254320502297368], \"line\": {\"color\": \"red\"}, \"lon\": [79.80606315997073, 87.40256030800104, 94.99905745874905, 102.59555461164774, 110.19205176589838, 117.78854892053177, 125.38504607462932, 132.98154322701532, 140.57804037734607, 148.17453752478835, 155.77103466959596, 163.3675318120596, 170.96402895291075, 178.56052609272305, 186.15702323313994, 193.75352037448857, 201.35001751801326, 208.94651466399708, 216.5430118128413, 224.1395089641914, 231.73600611752784, 239.33250327211348, 246.92900042672048, 254.52549758050927, 262.12199473258744, 269.718491882191, 277.3149890289245, 284.91148617297455, 292.5079833147522, 300.1044804549044, 307.70097759440705, 315.29747473454273, 322.89397187608023, 330.490469019732, 338.0869661662241, 345.68346331560326, 353.2799604676204, 0.8764576215648058, 8.47295477652992, 16.069451931601492, 23.665949085424593, 31.262446237425408, 38.858943386687244, 46.45544053304021, 54.051937676470374, 61.648434817509695, 69.24493195694671, 76.84142909593562, 84.43792623543405, 92.03442337654707, 99.6309205200319, 107.2274176665161, 114.82391481602865, 122.42041196831691, 130.01690912247392, 137.61340627801508, 145.2099034333896, 152.80640058767534, 160.40289773989366, 167.9993948893516, 175.59589203327513, 183.1923891717711, 190.78888630781267, 198.38538344209147, 205.98188057584684, 213.5783777100646, 221.17487484593107, 228.77137198420473, 236.36786912555476, 243.9643662700414, 251.56086341729906, 259.1573605667213, 266.7538577174966, 274.35035486830213, 281.9468520180488, 289.5433491657838, 297.139846310777, 304.7363434527258, 312.3328405915135, 319.9293377278685, 327.52583486234937, 335.12233199630845, 342.7188291305712, 350.3153262663478, 357.91182340428946, 5.508320545429797, 13.104817689598963, 20.70131483648252, 28.297811985603495, 35.89430913592069, 43.490806286539254, 51.087303436118624, 58.68380058385025, 66.28029772901124, 73.87679487114787, 81.47329201039591, 89.06978914722053, 96.66628628233595, 104.26278341674575, 111.85928055160672], \"mode\": \"lines\", \"name\": \"Sat\", \"type\": \"scattergeo\"}, {\"lat\": [-0.0014427539668810689], \"lon\": [79.80606315997073], \"marker\": {\"color\": \"red\"}, \"name\": \"Sat\", \"showlegend\": false, \"type\": \"scattergeo\"}],                        {\"geo\": {\"coastlinecolor\": \"Black\", \"landcolor\": \"#9fc164\", \"lataxis\": {\"gridcolor\": \"black\", \"showgrid\": true}, \"lonaxis\": {\"gridcolor\": \"black\", \"showgrid\": true}, \"oceancolor\": \"#b2d9ff\", \"projection\": {\"type\": \"orthographic\"}, \"showcoastlines\": true, \"showlakes\": false, \"showland\": true, \"showocean\": true, \"showrivers\": false}, \"template\": {\"data\": {\"bar\": [{\"error_x\": {\"color\": \"#2a3f5f\"}, \"error_y\": {\"color\": \"#2a3f5f\"}, \"marker\": {\"line\": {\"color\": \"#E5ECF6\", \"width\": 0.5}}, \"type\": \"bar\"}], \"barpolar\": [{\"marker\": {\"line\": {\"color\": \"#E5ECF6\", \"width\": 0.5}}, \"type\": \"barpolar\"}], \"carpet\": [{\"aaxis\": {\"endlinecolor\": \"#2a3f5f\", \"gridcolor\": \"white\", \"linecolor\": \"white\", \"minorgridcolor\": \"white\", \"startlinecolor\": \"#2a3f5f\"}, \"baxis\": {\"endlinecolor\": \"#2a3f5f\", \"gridcolor\": \"white\", \"linecolor\": \"white\", \"minorgridcolor\": \"white\", \"startlinecolor\": \"#2a3f5f\"}, \"type\": \"carpet\"}], \"choropleth\": [{\"colorbar\": {\"outlinewidth\": 0, \"ticks\": \"\"}, \"type\": \"choropleth\"}], \"contour\": [{\"colorbar\": {\"outlinewidth\": 0, \"ticks\": \"\"}, \"colorscale\": [[0.0, \"#0d0887\"], [0.1111111111111111, \"#46039f\"], [0.2222222222222222, \"#7201a8\"], [0.3333333333333333, \"#9c179e\"], [0.4444444444444444, \"#bd3786\"], [0.5555555555555556, \"#d8576b\"], [0.6666666666666666, \"#ed7953\"], [0.7777777777777778, \"#fb9f3a\"], [0.8888888888888888, \"#fdca26\"], [1.0, \"#f0f921\"]], \"type\": \"contour\"}], \"contourcarpet\": [{\"colorbar\": {\"outlinewidth\": 0, \"ticks\": \"\"}, \"type\": \"contourcarpet\"}], \"heatmap\": [{\"colorbar\": {\"outlinewidth\": 0, \"ticks\": \"\"}, \"colorscale\": [[0.0, \"#0d0887\"], [0.1111111111111111, \"#46039f\"], [0.2222222222222222, \"#7201a8\"], [0.3333333333333333, \"#9c179e\"], [0.4444444444444444, \"#bd3786\"], [0.5555555555555556, \"#d8576b\"], [0.6666666666666666, \"#ed7953\"], [0.7777777777777778, \"#fb9f3a\"], [0.8888888888888888, \"#fdca26\"], [1.0, \"#f0f921\"]], \"type\": \"heatmap\"}], \"heatmapgl\": [{\"colorbar\": {\"outlinewidth\": 0, \"ticks\": \"\"}, \"colorscale\": [[0.0, \"#0d0887\"], [0.1111111111111111, \"#46039f\"], [0.2222222222222222, \"#7201a8\"], [0.3333333333333333, \"#9c179e\"], [0.4444444444444444, \"#bd3786\"], [0.5555555555555556, \"#d8576b\"], [0.6666666666666666, \"#ed7953\"], [0.7777777777777778, \"#fb9f3a\"], [0.8888888888888888, \"#fdca26\"], [1.0, \"#f0f921\"]], \"type\": \"heatmapgl\"}], \"histogram\": [{\"marker\": {\"colorbar\": {\"outlinewidth\": 0, \"ticks\": \"\"}}, \"type\": \"histogram\"}], \"histogram2d\": [{\"colorbar\": {\"outlinewidth\": 0, \"ticks\": \"\"}, \"colorscale\": [[0.0, \"#0d0887\"], [0.1111111111111111, \"#46039f\"], [0.2222222222222222, \"#7201a8\"], [0.3333333333333333, \"#9c179e\"], [0.4444444444444444, \"#bd3786\"], [0.5555555555555556, \"#d8576b\"], [0.6666666666666666, \"#ed7953\"], [0.7777777777777778, \"#fb9f3a\"], [0.8888888888888888, \"#fdca26\"], [1.0, \"#f0f921\"]], \"type\": \"histogram2d\"}], \"histogram2dcontour\": [{\"colorbar\": {\"outlinewidth\": 0, \"ticks\": \"\"}, \"colorscale\": [[0.0, \"#0d0887\"], [0.1111111111111111, \"#46039f\"], [0.2222222222222222, \"#7201a8\"], [0.3333333333333333, \"#9c179e\"], [0.4444444444444444, \"#bd3786\"], [0.5555555555555556, \"#d8576b\"], [0.6666666666666666, \"#ed7953\"], [0.7777777777777778, \"#fb9f3a\"], [0.8888888888888888, \"#fdca26\"], [1.0, \"#f0f921\"]], \"type\": \"histogram2dcontour\"}], \"mesh3d\": [{\"colorbar\": {\"outlinewidth\": 0, \"ticks\": \"\"}, \"type\": \"mesh3d\"}], \"parcoords\": [{\"line\": {\"colorbar\": {\"outlinewidth\": 0, \"ticks\": \"\"}}, \"type\": \"parcoords\"}], \"pie\": [{\"automargin\": true, \"type\": \"pie\"}], \"scatter\": [{\"marker\": {\"colorbar\": {\"outlinewidth\": 0, \"ticks\": \"\"}}, \"type\": \"scatter\"}], \"scatter3d\": [{\"line\": {\"colorbar\": {\"outlinewidth\": 0, \"ticks\": \"\"}}, \"marker\": {\"colorbar\": {\"outlinewidth\": 0, \"ticks\": \"\"}}, \"type\": \"scatter3d\"}], \"scattercarpet\": [{\"marker\": {\"colorbar\": {\"outlinewidth\": 0, \"ticks\": \"\"}}, \"type\": \"scattercarpet\"}], \"scattergeo\": [{\"marker\": {\"colorbar\": {\"outlinewidth\": 0, \"ticks\": \"\"}}, \"type\": \"scattergeo\"}], \"scattergl\": [{\"marker\": {\"colorbar\": {\"outlinewidth\": 0, \"ticks\": \"\"}}, \"type\": \"scattergl\"}], \"scattermapbox\": [{\"marker\": {\"colorbar\": {\"outlinewidth\": 0, \"ticks\": \"\"}}, \"type\": \"scattermapbox\"}], \"scatterpolar\": [{\"marker\": {\"colorbar\": {\"outlinewidth\": 0, \"ticks\": \"\"}}, \"type\": \"scatterpolar\"}], \"scatterpolargl\": [{\"marker\": {\"colorbar\": {\"outlinewidth\": 0, \"ticks\": \"\"}}, \"type\": \"scatterpolargl\"}], \"scatterternary\": [{\"marker\": {\"colorbar\": {\"outlinewidth\": 0, \"ticks\": \"\"}}, \"type\": \"scatterternary\"}], \"surface\": [{\"colorbar\": {\"outlinewidth\": 0, \"ticks\": \"\"}, \"colorscale\": [[0.0, \"#0d0887\"], [0.1111111111111111, \"#46039f\"], [0.2222222222222222, \"#7201a8\"], [0.3333333333333333, \"#9c179e\"], [0.4444444444444444, \"#bd3786\"], [0.5555555555555556, \"#d8576b\"], [0.6666666666666666, \"#ed7953\"], [0.7777777777777778, \"#fb9f3a\"], [0.8888888888888888, \"#fdca26\"], [1.0, \"#f0f921\"]], \"type\": \"surface\"}], \"table\": [{\"cells\": {\"fill\": {\"color\": \"#EBF0F8\"}, \"line\": {\"color\": \"white\"}}, \"header\": {\"fill\": {\"color\": \"#C8D4E3\"}, \"line\": {\"color\": \"white\"}}, \"type\": \"table\"}]}, \"layout\": {\"annotationdefaults\": {\"arrowcolor\": \"#2a3f5f\", \"arrowhead\": 0, \"arrowwidth\": 1}, \"autotypenumbers\": \"strict\", \"coloraxis\": {\"colorbar\": {\"outlinewidth\": 0, \"ticks\": \"\"}}, \"colorscale\": {\"diverging\": [[0, \"#8e0152\"], [0.1, \"#c51b7d\"], [0.2, \"#de77ae\"], [0.3, \"#f1b6da\"], [0.4, \"#fde0ef\"], [0.5, \"#f7f7f7\"], [0.6, \"#e6f5d0\"], [0.7, \"#b8e186\"], [0.8, \"#7fbc41\"], [0.9, \"#4d9221\"], [1, \"#276419\"]], \"sequential\": [[0.0, \"#0d0887\"], [0.1111111111111111, \"#46039f\"], [0.2222222222222222, \"#7201a8\"], [0.3333333333333333, \"#9c179e\"], [0.4444444444444444, \"#bd3786\"], [0.5555555555555556, \"#d8576b\"], [0.6666666666666666, \"#ed7953\"], [0.7777777777777778, \"#fb9f3a\"], [0.8888888888888888, \"#fdca26\"], [1.0, \"#f0f921\"]], \"sequentialminus\": [[0.0, \"#0d0887\"], [0.1111111111111111, \"#46039f\"], [0.2222222222222222, \"#7201a8\"], [0.3333333333333333, \"#9c179e\"], [0.4444444444444444, \"#bd3786\"], [0.5555555555555556, \"#d8576b\"], [0.6666666666666666, \"#ed7953\"], [0.7777777777777778, \"#fb9f3a\"], [0.8888888888888888, \"#fdca26\"], [1.0, \"#f0f921\"]]}, \"colorway\": [\"#636efa\", \"#EF553B\", \"#00cc96\", \"#ab63fa\", \"#FFA15A\", \"#19d3f3\", \"#FF6692\", \"#B6E880\", \"#FF97FF\", \"#FECB52\"], \"font\": {\"color\": \"#2a3f5f\"}, \"geo\": {\"bgcolor\": \"white\", \"lakecolor\": \"white\", \"landcolor\": \"#E5ECF6\", \"showlakes\": true, \"showland\": true, \"subunitcolor\": \"white\"}, \"hoverlabel\": {\"align\": \"left\"}, \"hovermode\": \"closest\", \"mapbox\": {\"style\": \"light\"}, \"paper_bgcolor\": \"white\", \"plot_bgcolor\": \"#E5ECF6\", \"polar\": {\"angularaxis\": {\"gridcolor\": \"white\", \"linecolor\": \"white\", \"ticks\": \"\"}, \"bgcolor\": \"#E5ECF6\", \"radialaxis\": {\"gridcolor\": \"white\", \"linecolor\": \"white\", \"ticks\": \"\"}}, \"scene\": {\"xaxis\": {\"backgroundcolor\": \"#E5ECF6\", \"gridcolor\": \"white\", \"gridwidth\": 2, \"linecolor\": \"white\", \"showbackground\": true, \"ticks\": \"\", \"zerolinecolor\": \"white\"}, \"yaxis\": {\"backgroundcolor\": \"#E5ECF6\", \"gridcolor\": \"white\", \"gridwidth\": 2, \"linecolor\": \"white\", \"showbackground\": true, \"ticks\": \"\", \"zerolinecolor\": \"white\"}, \"zaxis\": {\"backgroundcolor\": \"#E5ECF6\", \"gridcolor\": \"white\", \"gridwidth\": 2, \"linecolor\": \"white\", \"showbackground\": true, \"ticks\": \"\", \"zerolinecolor\": \"white\"}}, \"shapedefaults\": {\"line\": {\"color\": \"#2a3f5f\"}}, \"ternary\": {\"aaxis\": {\"gridcolor\": \"white\", \"linecolor\": \"white\", \"ticks\": \"\"}, \"baxis\": {\"gridcolor\": \"white\", \"linecolor\": \"white\", \"ticks\": \"\"}, \"bgcolor\": \"#E5ECF6\", \"caxis\": {\"gridcolor\": \"white\", \"linecolor\": \"white\", \"ticks\": \"\"}}, \"title\": {\"x\": 0.05}, \"xaxis\": {\"automargin\": true, \"gridcolor\": \"white\", \"linecolor\": \"white\", \"ticks\": \"\", \"title\": {\"standoff\": 15}, \"zerolinecolor\": \"white\", \"zerolinewidth\": 2}, \"yaxis\": {\"automargin\": true, \"gridcolor\": \"white\", \"linecolor\": \"white\", \"ticks\": \"\", \"title\": {\"standoff\": 15}, \"zerolinecolor\": \"white\", \"zerolinewidth\": 2}}}, \"title\": {\"text\": \"Groundtrack\"}},                        {\"responsive\": true}                    ).then(function(){\n",
       "                            \n",
       "var gd = document.getElementById('ebb20800-c043-469c-b7e6-c0569ba0ceaa');\n",
       "var x = new MutationObserver(function (mutations, observer) {{\n",
       "        var display = window.getComputedStyle(gd).display;\n",
       "        if (!display || display === 'none') {{\n",
       "            console.log([gd, 'removed!']);\n",
       "            Plotly.purge(gd);\n",
       "            observer.disconnect();\n",
       "        }}\n",
       "}});\n",
       "\n",
       "// Listen for the removal of the full notebook cells\n",
       "var notebookContainer = gd.closest('#notebook-container');\n",
       "if (notebookContainer) {{\n",
       "    x.observe(notebookContainer, {childList: true});\n",
       "}}\n",
       "\n",
       "// Listen for the clearing of the current output cell\n",
       "var outputEl = gd.closest('.output');\n",
       "if (outputEl) {{\n",
       "    x.observe(outputEl, {childList: true});\n",
       "}}\n",
       "\n",
       "                        })                };                });            </script>        </div>"
      ]
     },
     "metadata": {},
     "output_type": "display_data"
    }
   ],
   "source": [
    "store.gp_groundtract.update_geos(projection_type=\"orthographic\")\n"
   ]
  },
  {
   "cell_type": "code",
   "execution_count": 211,
   "metadata": {},
   "outputs": [],
   "source": [
    "store.sat.orbit.sample?"
   ]
  },
  {
   "cell_type": "code",
   "execution_count": 186,
   "metadata": {},
   "outputs": [
    {
     "data": {
      "text/latex": [
       "$[[18290.753,~14011.53,~3176.156,~-9145.3766,~-17187.686,~-17187.686,~-9145.3766,~3176.156,~14011.53,~18290.753],~\n",
       " [0,~10976.17,~16816.468,~14788.154,~5840.2981,~-5840.2981,~-14788.154,~-16816.468,~-10976.17,~-7.5832181 \\times 10^{-12}],~\n",
       " [0,~4213.3569,~6455.2373,~5676.6404,~2241.8804,~-2241.8804,~-5676.6404,~-6455.2373,~-4213.3569,~-2.9109247 \\times 10^{-12}]] \\; \\mathrm{km}$"
      ],
      "text/plain": [
       "<Quantity [[ 1.82907532e+04,  1.40115299e+04,  3.17615596e+03,\n",
       "            -9.14537661e+03, -1.71876858e+04, -1.71876858e+04,\n",
       "            -9.14537661e+03,  3.17615596e+03,  1.40115299e+04,\n",
       "             1.82907532e+04],\n",
       "           [ 0.00000000e+00,  1.09761700e+04,  1.68164681e+04,\n",
       "             1.47881538e+04,  5.84029807e+03, -5.84029807e+03,\n",
       "            -1.47881538e+04, -1.68164681e+04, -1.09761700e+04,\n",
       "            -7.58321814e-12],\n",
       "           [ 0.00000000e+00,  4.21335690e+03,  6.45523729e+03,\n",
       "             5.67664040e+03,  2.24188038e+03, -2.24188038e+03,\n",
       "            -5.67664040e+03, -6.45523729e+03, -4.21335690e+03,\n",
       "            -2.91092471e-12]] km>"
      ]
     },
     "execution_count": 186,
     "metadata": {},
     "output_type": "execute_result"
    }
   ],
   "source": [
    "store.sat.orbit.sample(10).xyz"
   ]
  },
  {
   "cell_type": "code",
   "execution_count": 197,
   "metadata": {},
   "outputs": [
    {
     "data": {
      "text/latex": [
       "[$0\\mathrm{rad}$ $0.664516\\mathrm{rad}$ $1.38412\\mathrm{rad}$\n",
       " $2.12465\\mathrm{rad}$ $2.81404\\mathrm{rad}$ $3.46915\\mathrm{rad}$\n",
       " $4.15853\\mathrm{rad}$ $4.89906\\mathrm{rad}$ $5.61867\\mathrm{rad}$\n",
       " $6.28319\\mathrm{rad}$]"
      ],
      "text/plain": [
       "<Longitude [0.        , 0.66451626, 1.38412353, 2.12465419, 2.81403748,\n",
       "            3.46914783, 4.15853112, 4.89906177, 5.61866905, 6.28318531] rad>"
      ]
     },
     "execution_count": 197,
     "metadata": {},
     "output_type": "execute_result"
    }
   ],
   "source": [
    "smp = store.sat.orbit.sample(10)\n",
    "sph = cartesian_to_spherical(smp.x,smp.y, smp.z)\n",
    "sph[2]"
   ]
  },
  {
   "cell_type": "code",
   "execution_count": 241,
   "metadata": {},
   "outputs": [
    {
     "data": {
      "application/vnd.jupyter.widget-view+json": {
       "model_id": "5c16ca95f70242c3af4e501c397a2b93",
       "version_major": 2,
       "version_minor": 0
      },
      "text/plain": [
       "interactive(children=(FloatSlider(value=10.0, continuous_update=False, description='ground_size', max=30.0), I…"
      ]
     },
     "metadata": {},
     "output_type": "display_data"
    }
   ],
   "source": [
    "@interact(ground_size=FloatSlider(min=0,max=30,value=10,continuous_update=False),\n",
    "          n_sats = IntSlider(min=6,max=3600,value=18, continuous_update=False))\n",
    "def groundshadow(ground_size, n_sats):\n",
    "    # ground_size in degrees is the size of a tile on the surface\n",
    "    # n_sats is the number of satelites on one repetion of an orbit\n",
    "    # for heights > continuous coverage height, n_sats * grounds_size can be = 350\n",
    "    # below continous coverage height, more n_sats are needed\n",
    "    data = store.gp_groundtract.fig.data[1]\n",
    "    ts = store.t_span-store.sat.orbit.epoch\n",
    "    lats = interpolate.interp1d(ts.to(u.h), data['lat'])\n",
    "    lons = interpolate.interp1d(ts.to(u.h), data['lon'])\n",
    "    theta = np.linspace(2*np.pi,0)\n",
    "    dt = store.sat.orbit.period.to(u.h)/n_sats\n",
    "    t0 = ts[0].to(u.h)\n",
    "    tend = ts[-1].to(u.h)\n",
    "    for t in np.linspace(t0,tend,int(tend/dt)):\n",
    "        store.gp_groundtract.fig.add_scattergeo(mode='text',fill='toself',fillcolor='blue', \n",
    "                      lat=lats(t)+ground_size/2*np.sin(theta),\n",
    "                      lon=lons(t)+ground_size/2*np.cos(theta),\n",
    "                                                opacity=0.1)\n",
    "    store.gp_groundtract.update_geos()\n",
    "    store.gp_groundtract.fig.show()"
   ]
  },
  {
   "cell_type": "code",
   "execution_count": 34,
   "metadata": {},
   "outputs": [
    {
     "name": "stdout",
     "output_type": "stream",
     "text": [
      "Original period:  1.6190323993572264 h\n"
     ]
    },
    {
     "data": {
      "application/vnd.plotly.v1+json": {
       "config": {
        "plotlyServerURL": "https://plot.ly"
       },
       "data": [
        {
         "type": "scattergeo"
        },
        {
         "lat": [
          -0.001442754070593799,
          7.097578036868763,
          9.997573859992508,
          6.911123435319029,
          -0.2614367807533416,
          -7.28124105048299,
          -9.990577771426628,
          -6.717861171376503,
          0.524135947177872,
          7.4598602375638015,
          9.976530156956928,
          6.519964177992425,
          -0.7864771204455271,
          -7.633306291165549,
          -9.955441207149274,
          -6.317573128477013,
          1.0482829600919947,
          7.801453380425576,
          9.927326567748075,
          6.110831455925685,
          -1.3093764841212554,
          -7.9641792653936285,
          -9.892207336020729,
          -5.899885260669302,
          1.5695811403703974,
          8.121365408808678,
          9.850110045661031,
          5.684883217500475,
          -1.82872087609582,
          -8.272897080972797,
          -9.801066642014439,
          -5.465976481958042,
          2.086620205414817,
          8.418663459672626,
          9.745114445773314,
          5.2433185960137845,
          -2.3431042793831955,
          -8.558557725187697,
          -9.682296105990215,
          -5.0170653901800355,
          2.5979989544328363,
          8.692477150058119,
          9.612659543230443,
          4.787374883964391,
          -2.8511308648028626,
          -8.820323184813214,
          -9.536257881079706,
          -4.5544071834264415,
          3.102327496649968,
          8.942001539082122
         ],
         "line": {
          "color": "red"
         },
         "lon": [
          79.80606315966219,
          121.67649207936991,
          164.43542812113964,
          207.17079337912693,
          249.0189640763423,
          290.91311355648224,
          333.69463321963127,
          16.404984763677163,
          58.231927237762534,
          100.15095909561472,
          142.95373813936266,
          185.6379598202778,
          227.44501528288822,
          269.3900247798675,
          312.21267662432876,
          354.8697281530578,
          36.65829054160122,
          78.63030326249893,
          121.4713829423056,
          164.10030270354028,
          205.87181487419053,
          247.87178376548567,
          290.72979208172137,
          333.3296996960082,
          15.085649511272482,
          57.11445209027902,
          99.98783994506795,
          142.55793857588168,
          184.29985489324974,
          226.35829063951877,
          269.2454635372574,
          311.7850419364496,
          353.5144905117483,
          35.60327844571379,
          78.50260115153662,
          121.0110354415243,
          162.72961475341378,
          204.8493912146476,
          247.75919254971168,
          290.2359477377955,
          331.94528474570495,
          14.096601376636489,
          57.015179136004534,
          99.45981036085794,
          141.16155620354056,
          183.34487814934306,
          226.27050412834396,
          268.6826576380512,
          310.37848328217683,
          352.5941876127951
         ],
         "mode": "lines",
         "name": "Sat",
         "type": "scattergeo"
        },
        {
         "lat": [
          -0.001442754070593799
         ],
         "lon": [
          79.80606315966219
         ],
         "marker": {
          "color": "red"
         },
         "name": "Sat",
         "showlegend": false,
         "type": "scattergeo"
        }
       ],
       "layout": {
        "geo": {
         "coastlinecolor": "Black",
         "landcolor": "#9fc164",
         "lataxis": {
          "gridcolor": "black",
          "showgrid": true
         },
         "lonaxis": {
          "gridcolor": "black",
          "showgrid": true
         },
         "oceancolor": "#b2d9ff",
         "showcoastlines": true,
         "showlakes": false,
         "showland": true,
         "showocean": true,
         "showrivers": false
        },
        "template": {
         "data": {
          "bar": [
           {
            "error_x": {
             "color": "#2a3f5f"
            },
            "error_y": {
             "color": "#2a3f5f"
            },
            "marker": {
             "line": {
              "color": "#E5ECF6",
              "width": 0.5
             }
            },
            "type": "bar"
           }
          ],
          "barpolar": [
           {
            "marker": {
             "line": {
              "color": "#E5ECF6",
              "width": 0.5
             }
            },
            "type": "barpolar"
           }
          ],
          "carpet": [
           {
            "aaxis": {
             "endlinecolor": "#2a3f5f",
             "gridcolor": "white",
             "linecolor": "white",
             "minorgridcolor": "white",
             "startlinecolor": "#2a3f5f"
            },
            "baxis": {
             "endlinecolor": "#2a3f5f",
             "gridcolor": "white",
             "linecolor": "white",
             "minorgridcolor": "white",
             "startlinecolor": "#2a3f5f"
            },
            "type": "carpet"
           }
          ],
          "choropleth": [
           {
            "colorbar": {
             "outlinewidth": 0,
             "ticks": ""
            },
            "type": "choropleth"
           }
          ],
          "contour": [
           {
            "colorbar": {
             "outlinewidth": 0,
             "ticks": ""
            },
            "colorscale": [
             [
              0,
              "#0d0887"
             ],
             [
              0.1111111111111111,
              "#46039f"
             ],
             [
              0.2222222222222222,
              "#7201a8"
             ],
             [
              0.3333333333333333,
              "#9c179e"
             ],
             [
              0.4444444444444444,
              "#bd3786"
             ],
             [
              0.5555555555555556,
              "#d8576b"
             ],
             [
              0.6666666666666666,
              "#ed7953"
             ],
             [
              0.7777777777777778,
              "#fb9f3a"
             ],
             [
              0.8888888888888888,
              "#fdca26"
             ],
             [
              1,
              "#f0f921"
             ]
            ],
            "type": "contour"
           }
          ],
          "contourcarpet": [
           {
            "colorbar": {
             "outlinewidth": 0,
             "ticks": ""
            },
            "type": "contourcarpet"
           }
          ],
          "heatmap": [
           {
            "colorbar": {
             "outlinewidth": 0,
             "ticks": ""
            },
            "colorscale": [
             [
              0,
              "#0d0887"
             ],
             [
              0.1111111111111111,
              "#46039f"
             ],
             [
              0.2222222222222222,
              "#7201a8"
             ],
             [
              0.3333333333333333,
              "#9c179e"
             ],
             [
              0.4444444444444444,
              "#bd3786"
             ],
             [
              0.5555555555555556,
              "#d8576b"
             ],
             [
              0.6666666666666666,
              "#ed7953"
             ],
             [
              0.7777777777777778,
              "#fb9f3a"
             ],
             [
              0.8888888888888888,
              "#fdca26"
             ],
             [
              1,
              "#f0f921"
             ]
            ],
            "type": "heatmap"
           }
          ],
          "heatmapgl": [
           {
            "colorbar": {
             "outlinewidth": 0,
             "ticks": ""
            },
            "colorscale": [
             [
              0,
              "#0d0887"
             ],
             [
              0.1111111111111111,
              "#46039f"
             ],
             [
              0.2222222222222222,
              "#7201a8"
             ],
             [
              0.3333333333333333,
              "#9c179e"
             ],
             [
              0.4444444444444444,
              "#bd3786"
             ],
             [
              0.5555555555555556,
              "#d8576b"
             ],
             [
              0.6666666666666666,
              "#ed7953"
             ],
             [
              0.7777777777777778,
              "#fb9f3a"
             ],
             [
              0.8888888888888888,
              "#fdca26"
             ],
             [
              1,
              "#f0f921"
             ]
            ],
            "type": "heatmapgl"
           }
          ],
          "histogram": [
           {
            "marker": {
             "colorbar": {
              "outlinewidth": 0,
              "ticks": ""
             }
            },
            "type": "histogram"
           }
          ],
          "histogram2d": [
           {
            "colorbar": {
             "outlinewidth": 0,
             "ticks": ""
            },
            "colorscale": [
             [
              0,
              "#0d0887"
             ],
             [
              0.1111111111111111,
              "#46039f"
             ],
             [
              0.2222222222222222,
              "#7201a8"
             ],
             [
              0.3333333333333333,
              "#9c179e"
             ],
             [
              0.4444444444444444,
              "#bd3786"
             ],
             [
              0.5555555555555556,
              "#d8576b"
             ],
             [
              0.6666666666666666,
              "#ed7953"
             ],
             [
              0.7777777777777778,
              "#fb9f3a"
             ],
             [
              0.8888888888888888,
              "#fdca26"
             ],
             [
              1,
              "#f0f921"
             ]
            ],
            "type": "histogram2d"
           }
          ],
          "histogram2dcontour": [
           {
            "colorbar": {
             "outlinewidth": 0,
             "ticks": ""
            },
            "colorscale": [
             [
              0,
              "#0d0887"
             ],
             [
              0.1111111111111111,
              "#46039f"
             ],
             [
              0.2222222222222222,
              "#7201a8"
             ],
             [
              0.3333333333333333,
              "#9c179e"
             ],
             [
              0.4444444444444444,
              "#bd3786"
             ],
             [
              0.5555555555555556,
              "#d8576b"
             ],
             [
              0.6666666666666666,
              "#ed7953"
             ],
             [
              0.7777777777777778,
              "#fb9f3a"
             ],
             [
              0.8888888888888888,
              "#fdca26"
             ],
             [
              1,
              "#f0f921"
             ]
            ],
            "type": "histogram2dcontour"
           }
          ],
          "mesh3d": [
           {
            "colorbar": {
             "outlinewidth": 0,
             "ticks": ""
            },
            "type": "mesh3d"
           }
          ],
          "parcoords": [
           {
            "line": {
             "colorbar": {
              "outlinewidth": 0,
              "ticks": ""
             }
            },
            "type": "parcoords"
           }
          ],
          "pie": [
           {
            "automargin": true,
            "type": "pie"
           }
          ],
          "scatter": [
           {
            "marker": {
             "colorbar": {
              "outlinewidth": 0,
              "ticks": ""
             }
            },
            "type": "scatter"
           }
          ],
          "scatter3d": [
           {
            "line": {
             "colorbar": {
              "outlinewidth": 0,
              "ticks": ""
             }
            },
            "marker": {
             "colorbar": {
              "outlinewidth": 0,
              "ticks": ""
             }
            },
            "type": "scatter3d"
           }
          ],
          "scattercarpet": [
           {
            "marker": {
             "colorbar": {
              "outlinewidth": 0,
              "ticks": ""
             }
            },
            "type": "scattercarpet"
           }
          ],
          "scattergeo": [
           {
            "marker": {
             "colorbar": {
              "outlinewidth": 0,
              "ticks": ""
             }
            },
            "type": "scattergeo"
           }
          ],
          "scattergl": [
           {
            "marker": {
             "colorbar": {
              "outlinewidth": 0,
              "ticks": ""
             }
            },
            "type": "scattergl"
           }
          ],
          "scattermapbox": [
           {
            "marker": {
             "colorbar": {
              "outlinewidth": 0,
              "ticks": ""
             }
            },
            "type": "scattermapbox"
           }
          ],
          "scatterpolar": [
           {
            "marker": {
             "colorbar": {
              "outlinewidth": 0,
              "ticks": ""
             }
            },
            "type": "scatterpolar"
           }
          ],
          "scatterpolargl": [
           {
            "marker": {
             "colorbar": {
              "outlinewidth": 0,
              "ticks": ""
             }
            },
            "type": "scatterpolargl"
           }
          ],
          "scatterternary": [
           {
            "marker": {
             "colorbar": {
              "outlinewidth": 0,
              "ticks": ""
             }
            },
            "type": "scatterternary"
           }
          ],
          "surface": [
           {
            "colorbar": {
             "outlinewidth": 0,
             "ticks": ""
            },
            "colorscale": [
             [
              0,
              "#0d0887"
             ],
             [
              0.1111111111111111,
              "#46039f"
             ],
             [
              0.2222222222222222,
              "#7201a8"
             ],
             [
              0.3333333333333333,
              "#9c179e"
             ],
             [
              0.4444444444444444,
              "#bd3786"
             ],
             [
              0.5555555555555556,
              "#d8576b"
             ],
             [
              0.6666666666666666,
              "#ed7953"
             ],
             [
              0.7777777777777778,
              "#fb9f3a"
             ],
             [
              0.8888888888888888,
              "#fdca26"
             ],
             [
              1,
              "#f0f921"
             ]
            ],
            "type": "surface"
           }
          ],
          "table": [
           {
            "cells": {
             "fill": {
              "color": "#EBF0F8"
             },
             "line": {
              "color": "white"
             }
            },
            "header": {
             "fill": {
              "color": "#C8D4E3"
             },
             "line": {
              "color": "white"
             }
            },
            "type": "table"
           }
          ]
         },
         "layout": {
          "annotationdefaults": {
           "arrowcolor": "#2a3f5f",
           "arrowhead": 0,
           "arrowwidth": 1
          },
          "autotypenumbers": "strict",
          "coloraxis": {
           "colorbar": {
            "outlinewidth": 0,
            "ticks": ""
           }
          },
          "colorscale": {
           "diverging": [
            [
             0,
             "#8e0152"
            ],
            [
             0.1,
             "#c51b7d"
            ],
            [
             0.2,
             "#de77ae"
            ],
            [
             0.3,
             "#f1b6da"
            ],
            [
             0.4,
             "#fde0ef"
            ],
            [
             0.5,
             "#f7f7f7"
            ],
            [
             0.6,
             "#e6f5d0"
            ],
            [
             0.7,
             "#b8e186"
            ],
            [
             0.8,
             "#7fbc41"
            ],
            [
             0.9,
             "#4d9221"
            ],
            [
             1,
             "#276419"
            ]
           ],
           "sequential": [
            [
             0,
             "#0d0887"
            ],
            [
             0.1111111111111111,
             "#46039f"
            ],
            [
             0.2222222222222222,
             "#7201a8"
            ],
            [
             0.3333333333333333,
             "#9c179e"
            ],
            [
             0.4444444444444444,
             "#bd3786"
            ],
            [
             0.5555555555555556,
             "#d8576b"
            ],
            [
             0.6666666666666666,
             "#ed7953"
            ],
            [
             0.7777777777777778,
             "#fb9f3a"
            ],
            [
             0.8888888888888888,
             "#fdca26"
            ],
            [
             1,
             "#f0f921"
            ]
           ],
           "sequentialminus": [
            [
             0,
             "#0d0887"
            ],
            [
             0.1111111111111111,
             "#46039f"
            ],
            [
             0.2222222222222222,
             "#7201a8"
            ],
            [
             0.3333333333333333,
             "#9c179e"
            ],
            [
             0.4444444444444444,
             "#bd3786"
            ],
            [
             0.5555555555555556,
             "#d8576b"
            ],
            [
             0.6666666666666666,
             "#ed7953"
            ],
            [
             0.7777777777777778,
             "#fb9f3a"
            ],
            [
             0.8888888888888888,
             "#fdca26"
            ],
            [
             1,
             "#f0f921"
            ]
           ]
          },
          "colorway": [
           "#636efa",
           "#EF553B",
           "#00cc96",
           "#ab63fa",
           "#FFA15A",
           "#19d3f3",
           "#FF6692",
           "#B6E880",
           "#FF97FF",
           "#FECB52"
          ],
          "font": {
           "color": "#2a3f5f"
          },
          "geo": {
           "bgcolor": "white",
           "lakecolor": "white",
           "landcolor": "#E5ECF6",
           "showlakes": true,
           "showland": true,
           "subunitcolor": "white"
          },
          "hoverlabel": {
           "align": "left"
          },
          "hovermode": "closest",
          "mapbox": {
           "style": "light"
          },
          "paper_bgcolor": "white",
          "plot_bgcolor": "#E5ECF6",
          "polar": {
           "angularaxis": {
            "gridcolor": "white",
            "linecolor": "white",
            "ticks": ""
           },
           "bgcolor": "#E5ECF6",
           "radialaxis": {
            "gridcolor": "white",
            "linecolor": "white",
            "ticks": ""
           }
          },
          "scene": {
           "xaxis": {
            "backgroundcolor": "#E5ECF6",
            "gridcolor": "white",
            "gridwidth": 2,
            "linecolor": "white",
            "showbackground": true,
            "ticks": "",
            "zerolinecolor": "white"
           },
           "yaxis": {
            "backgroundcolor": "#E5ECF6",
            "gridcolor": "white",
            "gridwidth": 2,
            "linecolor": "white",
            "showbackground": true,
            "ticks": "",
            "zerolinecolor": "white"
           },
           "zaxis": {
            "backgroundcolor": "#E5ECF6",
            "gridcolor": "white",
            "gridwidth": 2,
            "linecolor": "white",
            "showbackground": true,
            "ticks": "",
            "zerolinecolor": "white"
           }
          },
          "shapedefaults": {
           "line": {
            "color": "#2a3f5f"
           }
          },
          "ternary": {
           "aaxis": {
            "gridcolor": "white",
            "linecolor": "white",
            "ticks": ""
           },
           "baxis": {
            "gridcolor": "white",
            "linecolor": "white",
            "ticks": ""
           },
           "bgcolor": "#E5ECF6",
           "caxis": {
            "gridcolor": "white",
            "linecolor": "white",
            "ticks": ""
           }
          },
          "title": {
           "x": 0.05
          },
          "xaxis": {
           "automargin": true,
           "gridcolor": "white",
           "linecolor": "white",
           "ticks": "",
           "title": {
            "standoff": 15
           },
           "zerolinecolor": "white",
           "zerolinewidth": 2
          },
          "yaxis": {
           "automargin": true,
           "gridcolor": "white",
           "linecolor": "white",
           "ticks": "",
           "title": {
            "standoff": 15
           },
           "zerolinecolor": "white",
           "zerolinewidth": 2
          }
         }
        },
        "title": {
         "text": "Groundtrack"
        }
       }
      },
      "text/html": [
       "<div>                            <div id=\"7081a5df-2280-42d4-8f3f-ec555e57fadd\" class=\"plotly-graph-div\" style=\"height:525px; width:100%;\"></div>            <script type=\"text/javascript\">                require([\"plotly\"], function(Plotly) {                    window.PLOTLYENV=window.PLOTLYENV || {};                                    if (document.getElementById(\"7081a5df-2280-42d4-8f3f-ec555e57fadd\")) {                    Plotly.newPlot(                        \"7081a5df-2280-42d4-8f3f-ec555e57fadd\",                        [{\"type\": \"scattergeo\"}, {\"lat\": [-0.001442754070593799, 7.097578036868763, 9.997573859992508, 6.911123435319029, -0.2614367807533416, -7.28124105048299, -9.990577771426628, -6.717861171376503, 0.524135947177872, 7.4598602375638015, 9.976530156956928, 6.519964177992425, -0.7864771204455271, -7.633306291165549, -9.955441207149274, -6.317573128477013, 1.0482829600919947, 7.801453380425576, 9.927326567748075, 6.110831455925685, -1.3093764841212554, -7.9641792653936285, -9.892207336020729, -5.899885260669302, 1.5695811403703974, 8.121365408808678, 9.850110045661031, 5.684883217500475, -1.82872087609582, -8.272897080972797, -9.801066642014439, -5.465976481958042, 2.086620205414817, 8.418663459672626, 9.745114445773314, 5.2433185960137845, -2.3431042793831955, -8.558557725187697, -9.682296105990215, -5.0170653901800355, 2.5979989544328363, 8.692477150058119, 9.612659543230443, 4.787374883964391, -2.8511308648028626, -8.820323184813214, -9.536257881079706, -4.5544071834264415, 3.102327496649968, 8.942001539082122], \"line\": {\"color\": \"red\"}, \"lon\": [79.80606315966219, 121.67649207936991, 164.43542812113964, 207.17079337912693, 249.0189640763423, 290.91311355648224, 333.69463321963127, 16.404984763677163, 58.231927237762534, 100.15095909561472, 142.95373813936266, 185.6379598202778, 227.44501528288822, 269.3900247798675, 312.21267662432876, 354.8697281530578, 36.65829054160122, 78.63030326249893, 121.4713829423056, 164.10030270354028, 205.87181487419053, 247.87178376548567, 290.72979208172137, 333.3296996960082, 15.085649511272482, 57.11445209027902, 99.98783994506795, 142.55793857588168, 184.29985489324974, 226.35829063951877, 269.2454635372574, 311.7850419364496, 353.5144905117483, 35.60327844571379, 78.50260115153662, 121.0110354415243, 162.72961475341378, 204.8493912146476, 247.75919254971168, 290.2359477377955, 331.94528474570495, 14.096601376636489, 57.015179136004534, 99.45981036085794, 141.16155620354056, 183.34487814934306, 226.27050412834396, 268.6826576380512, 310.37848328217683, 352.5941876127951], \"mode\": \"lines\", \"name\": \"Sat\", \"type\": \"scattergeo\"}, {\"lat\": [-0.001442754070593799], \"lon\": [79.80606315966219], \"marker\": {\"color\": \"red\"}, \"name\": \"Sat\", \"showlegend\": false, \"type\": \"scattergeo\"}],                        {\"geo\": {\"coastlinecolor\": \"Black\", \"landcolor\": \"#9fc164\", \"lataxis\": {\"gridcolor\": \"black\", \"showgrid\": true}, \"lonaxis\": {\"gridcolor\": \"black\", \"showgrid\": true}, \"oceancolor\": \"#b2d9ff\", \"showcoastlines\": true, \"showlakes\": false, \"showland\": true, \"showocean\": true, \"showrivers\": false}, \"template\": {\"data\": {\"bar\": [{\"error_x\": {\"color\": \"#2a3f5f\"}, \"error_y\": {\"color\": \"#2a3f5f\"}, \"marker\": {\"line\": {\"color\": \"#E5ECF6\", \"width\": 0.5}}, \"type\": \"bar\"}], \"barpolar\": [{\"marker\": {\"line\": {\"color\": \"#E5ECF6\", \"width\": 0.5}}, \"type\": \"barpolar\"}], \"carpet\": [{\"aaxis\": {\"endlinecolor\": \"#2a3f5f\", \"gridcolor\": \"white\", \"linecolor\": \"white\", \"minorgridcolor\": \"white\", \"startlinecolor\": \"#2a3f5f\"}, \"baxis\": {\"endlinecolor\": \"#2a3f5f\", \"gridcolor\": \"white\", \"linecolor\": \"white\", \"minorgridcolor\": \"white\", \"startlinecolor\": \"#2a3f5f\"}, \"type\": \"carpet\"}], \"choropleth\": [{\"colorbar\": {\"outlinewidth\": 0, \"ticks\": \"\"}, \"type\": \"choropleth\"}], \"contour\": [{\"colorbar\": {\"outlinewidth\": 0, \"ticks\": \"\"}, \"colorscale\": [[0.0, \"#0d0887\"], [0.1111111111111111, \"#46039f\"], [0.2222222222222222, \"#7201a8\"], [0.3333333333333333, \"#9c179e\"], [0.4444444444444444, \"#bd3786\"], [0.5555555555555556, \"#d8576b\"], [0.6666666666666666, \"#ed7953\"], [0.7777777777777778, \"#fb9f3a\"], [0.8888888888888888, \"#fdca26\"], [1.0, \"#f0f921\"]], \"type\": \"contour\"}], \"contourcarpet\": [{\"colorbar\": {\"outlinewidth\": 0, \"ticks\": \"\"}, \"type\": \"contourcarpet\"}], \"heatmap\": [{\"colorbar\": {\"outlinewidth\": 0, \"ticks\": \"\"}, \"colorscale\": [[0.0, \"#0d0887\"], [0.1111111111111111, \"#46039f\"], [0.2222222222222222, \"#7201a8\"], [0.3333333333333333, \"#9c179e\"], [0.4444444444444444, \"#bd3786\"], [0.5555555555555556, \"#d8576b\"], [0.6666666666666666, \"#ed7953\"], [0.7777777777777778, \"#fb9f3a\"], [0.8888888888888888, \"#fdca26\"], [1.0, \"#f0f921\"]], \"type\": \"heatmap\"}], \"heatmapgl\": [{\"colorbar\": {\"outlinewidth\": 0, \"ticks\": \"\"}, \"colorscale\": [[0.0, \"#0d0887\"], [0.1111111111111111, \"#46039f\"], [0.2222222222222222, \"#7201a8\"], [0.3333333333333333, \"#9c179e\"], [0.4444444444444444, \"#bd3786\"], [0.5555555555555556, \"#d8576b\"], [0.6666666666666666, \"#ed7953\"], [0.7777777777777778, \"#fb9f3a\"], [0.8888888888888888, \"#fdca26\"], [1.0, \"#f0f921\"]], \"type\": \"heatmapgl\"}], \"histogram\": [{\"marker\": {\"colorbar\": {\"outlinewidth\": 0, \"ticks\": \"\"}}, \"type\": \"histogram\"}], \"histogram2d\": [{\"colorbar\": {\"outlinewidth\": 0, \"ticks\": \"\"}, \"colorscale\": [[0.0, \"#0d0887\"], [0.1111111111111111, \"#46039f\"], [0.2222222222222222, \"#7201a8\"], [0.3333333333333333, \"#9c179e\"], [0.4444444444444444, \"#bd3786\"], [0.5555555555555556, \"#d8576b\"], [0.6666666666666666, \"#ed7953\"], [0.7777777777777778, \"#fb9f3a\"], [0.8888888888888888, \"#fdca26\"], [1.0, \"#f0f921\"]], \"type\": \"histogram2d\"}], \"histogram2dcontour\": [{\"colorbar\": {\"outlinewidth\": 0, \"ticks\": \"\"}, \"colorscale\": [[0.0, \"#0d0887\"], [0.1111111111111111, \"#46039f\"], [0.2222222222222222, \"#7201a8\"], [0.3333333333333333, \"#9c179e\"], [0.4444444444444444, \"#bd3786\"], [0.5555555555555556, \"#d8576b\"], [0.6666666666666666, \"#ed7953\"], [0.7777777777777778, \"#fb9f3a\"], [0.8888888888888888, \"#fdca26\"], [1.0, \"#f0f921\"]], \"type\": \"histogram2dcontour\"}], \"mesh3d\": [{\"colorbar\": {\"outlinewidth\": 0, \"ticks\": \"\"}, \"type\": \"mesh3d\"}], \"parcoords\": [{\"line\": {\"colorbar\": {\"outlinewidth\": 0, \"ticks\": \"\"}}, \"type\": \"parcoords\"}], \"pie\": [{\"automargin\": true, \"type\": \"pie\"}], \"scatter\": [{\"marker\": {\"colorbar\": {\"outlinewidth\": 0, \"ticks\": \"\"}}, \"type\": \"scatter\"}], \"scatter3d\": [{\"line\": {\"colorbar\": {\"outlinewidth\": 0, \"ticks\": \"\"}}, \"marker\": {\"colorbar\": {\"outlinewidth\": 0, \"ticks\": \"\"}}, \"type\": \"scatter3d\"}], \"scattercarpet\": [{\"marker\": {\"colorbar\": {\"outlinewidth\": 0, \"ticks\": \"\"}}, \"type\": \"scattercarpet\"}], \"scattergeo\": [{\"marker\": {\"colorbar\": {\"outlinewidth\": 0, \"ticks\": \"\"}}, \"type\": \"scattergeo\"}], \"scattergl\": [{\"marker\": {\"colorbar\": {\"outlinewidth\": 0, \"ticks\": \"\"}}, \"type\": \"scattergl\"}], \"scattermapbox\": [{\"marker\": {\"colorbar\": {\"outlinewidth\": 0, \"ticks\": \"\"}}, \"type\": \"scattermapbox\"}], \"scatterpolar\": [{\"marker\": {\"colorbar\": {\"outlinewidth\": 0, \"ticks\": \"\"}}, \"type\": \"scatterpolar\"}], \"scatterpolargl\": [{\"marker\": {\"colorbar\": {\"outlinewidth\": 0, \"ticks\": \"\"}}, \"type\": \"scatterpolargl\"}], \"scatterternary\": [{\"marker\": {\"colorbar\": {\"outlinewidth\": 0, \"ticks\": \"\"}}, \"type\": \"scatterternary\"}], \"surface\": [{\"colorbar\": {\"outlinewidth\": 0, \"ticks\": \"\"}, \"colorscale\": [[0.0, \"#0d0887\"], [0.1111111111111111, \"#46039f\"], [0.2222222222222222, \"#7201a8\"], [0.3333333333333333, \"#9c179e\"], [0.4444444444444444, \"#bd3786\"], [0.5555555555555556, \"#d8576b\"], [0.6666666666666666, \"#ed7953\"], [0.7777777777777778, \"#fb9f3a\"], [0.8888888888888888, \"#fdca26\"], [1.0, \"#f0f921\"]], \"type\": \"surface\"}], \"table\": [{\"cells\": {\"fill\": {\"color\": \"#EBF0F8\"}, \"line\": {\"color\": \"white\"}}, \"header\": {\"fill\": {\"color\": \"#C8D4E3\"}, \"line\": {\"color\": \"white\"}}, \"type\": \"table\"}]}, \"layout\": {\"annotationdefaults\": {\"arrowcolor\": \"#2a3f5f\", \"arrowhead\": 0, \"arrowwidth\": 1}, \"autotypenumbers\": \"strict\", \"coloraxis\": {\"colorbar\": {\"outlinewidth\": 0, \"ticks\": \"\"}}, \"colorscale\": {\"diverging\": [[0, \"#8e0152\"], [0.1, \"#c51b7d\"], [0.2, \"#de77ae\"], [0.3, \"#f1b6da\"], [0.4, \"#fde0ef\"], [0.5, \"#f7f7f7\"], [0.6, \"#e6f5d0\"], [0.7, \"#b8e186\"], [0.8, \"#7fbc41\"], [0.9, \"#4d9221\"], [1, \"#276419\"]], \"sequential\": [[0.0, \"#0d0887\"], [0.1111111111111111, \"#46039f\"], [0.2222222222222222, \"#7201a8\"], [0.3333333333333333, \"#9c179e\"], [0.4444444444444444, \"#bd3786\"], [0.5555555555555556, \"#d8576b\"], [0.6666666666666666, \"#ed7953\"], [0.7777777777777778, \"#fb9f3a\"], [0.8888888888888888, \"#fdca26\"], [1.0, \"#f0f921\"]], \"sequentialminus\": [[0.0, \"#0d0887\"], [0.1111111111111111, \"#46039f\"], [0.2222222222222222, \"#7201a8\"], [0.3333333333333333, \"#9c179e\"], [0.4444444444444444, \"#bd3786\"], [0.5555555555555556, \"#d8576b\"], [0.6666666666666666, \"#ed7953\"], [0.7777777777777778, \"#fb9f3a\"], [0.8888888888888888, \"#fdca26\"], [1.0, \"#f0f921\"]]}, \"colorway\": [\"#636efa\", \"#EF553B\", \"#00cc96\", \"#ab63fa\", \"#FFA15A\", \"#19d3f3\", \"#FF6692\", \"#B6E880\", \"#FF97FF\", \"#FECB52\"], \"font\": {\"color\": \"#2a3f5f\"}, \"geo\": {\"bgcolor\": \"white\", \"lakecolor\": \"white\", \"landcolor\": \"#E5ECF6\", \"showlakes\": true, \"showland\": true, \"subunitcolor\": \"white\"}, \"hoverlabel\": {\"align\": \"left\"}, \"hovermode\": \"closest\", \"mapbox\": {\"style\": \"light\"}, \"paper_bgcolor\": \"white\", \"plot_bgcolor\": \"#E5ECF6\", \"polar\": {\"angularaxis\": {\"gridcolor\": \"white\", \"linecolor\": \"white\", \"ticks\": \"\"}, \"bgcolor\": \"#E5ECF6\", \"radialaxis\": {\"gridcolor\": \"white\", \"linecolor\": \"white\", \"ticks\": \"\"}}, \"scene\": {\"xaxis\": {\"backgroundcolor\": \"#E5ECF6\", \"gridcolor\": \"white\", \"gridwidth\": 2, \"linecolor\": \"white\", \"showbackground\": true, \"ticks\": \"\", \"zerolinecolor\": \"white\"}, \"yaxis\": {\"backgroundcolor\": \"#E5ECF6\", \"gridcolor\": \"white\", \"gridwidth\": 2, \"linecolor\": \"white\", \"showbackground\": true, \"ticks\": \"\", \"zerolinecolor\": \"white\"}, \"zaxis\": {\"backgroundcolor\": \"#E5ECF6\", \"gridcolor\": \"white\", \"gridwidth\": 2, \"linecolor\": \"white\", \"showbackground\": true, \"ticks\": \"\", \"zerolinecolor\": \"white\"}}, \"shapedefaults\": {\"line\": {\"color\": \"#2a3f5f\"}}, \"ternary\": {\"aaxis\": {\"gridcolor\": \"white\", \"linecolor\": \"white\", \"ticks\": \"\"}, \"baxis\": {\"gridcolor\": \"white\", \"linecolor\": \"white\", \"ticks\": \"\"}, \"bgcolor\": \"#E5ECF6\", \"caxis\": {\"gridcolor\": \"white\", \"linecolor\": \"white\", \"ticks\": \"\"}}, \"title\": {\"x\": 0.05}, \"xaxis\": {\"automargin\": true, \"gridcolor\": \"white\", \"linecolor\": \"white\", \"ticks\": \"\", \"title\": {\"standoff\": 15}, \"zerolinecolor\": \"white\", \"zerolinewidth\": 2}, \"yaxis\": {\"automargin\": true, \"gridcolor\": \"white\", \"linecolor\": \"white\", \"ticks\": \"\", \"title\": {\"standoff\": 15}, \"zerolinecolor\": \"white\", \"zerolinewidth\": 2}}}, \"title\": {\"text\": \"Groundtrack\"}},                        {\"responsive\": true}                    ).then(function(){\n",
       "                            \n",
       "var gd = document.getElementById('7081a5df-2280-42d4-8f3f-ec555e57fadd');\n",
       "var x = new MutationObserver(function (mutations, observer) {{\n",
       "        var display = window.getComputedStyle(gd).display;\n",
       "        if (!display || display === 'none') {{\n",
       "            console.log([gd, 'removed!']);\n",
       "            Plotly.purge(gd);\n",
       "            observer.disconnect();\n",
       "        }}\n",
       "}});\n",
       "\n",
       "// Listen for the removal of the full notebook cells\n",
       "var notebookContainer = gd.closest('#notebook-container');\n",
       "if (notebookContainer) {{\n",
       "    x.observe(notebookContainer, {childList: true});\n",
       "}}\n",
       "\n",
       "// Listen for the clearing of the current output cell\n",
       "var outputEl = gd.closest('.output');\n",
       "if (outputEl) {{\n",
       "    x.observe(outputEl, {childList: true});\n",
       "}}\n",
       "\n",
       "                        })                };                });            </script>        </div>"
      ]
     },
     "metadata": {},
     "output_type": "display_data"
    }
   ],
   "source": [
    "a = 7000 * u.km\n",
    "ecc = 0 * u.one\n",
    "inc = 10 * u.deg\n",
    "raan = 0 * u.deg\n",
    "argp = 0 * u.deg\n",
    "nu = 0 * u.deg\n",
    "orb = Orbit.from_classical(Earth, a, ecc, inc, raan, argp, nu)\n",
    "print(\"Original period: \", orb.period.to(u.h))\n",
    "sat = EarthSatellite(orb, None)\n",
    "t_span = time_range(orb.epoch, periods=505, end=orb.epoch+10 * u.h)\n",
    "gp = GroundtrackPlotter()\n",
    "gp.update_layout(title=\"Groundtrack\")\n",
    "\n",
    "# Plot previously defined EarthSatellite object\n",
    "gp.plot(\n",
    "    sat,\n",
    "    t_span,\n",
    "    label=\"Sat\",\n",
    "    color = \"red\",\n",
    "    marker={\"size\": 10, \"symbol\": \"triangle-right\", \"line\": {\"width\": 1, \"color\": \"black\"}},\n",
    ")"
   ]
  },
  {
   "cell_type": "code",
   "execution_count": null,
   "metadata": {},
   "outputs": [],
   "source": [
    "\n",
    "    np.savetxt(f'cache/{h:.2f}_{i:.2f}_{duration}_{max_day_bn_rep}_{ground_size:.2f}_{n_sats}.csv',\n",
    "               np.vstack([data['lat'],data['lon']]).T, delimiter=',')\n",
    "    gp.update_geos(projection_type=\"orthographic\")"
   ]
  }
 ],
 "metadata": {
  "kernelspec": {
   "display_name": "Python 3",
   "language": "python",
   "name": "python3"
  },
  "language_info": {
   "codemirror_mode": {
    "name": "ipython",
    "version": 3
   },
   "file_extension": ".py",
   "mimetype": "text/x-python",
   "name": "python",
   "nbconvert_exporter": "python",
   "pygments_lexer": "ipython3",
   "version": "3.8.3"
  }
 },
 "nbformat": 4,
 "nbformat_minor": 4
}
