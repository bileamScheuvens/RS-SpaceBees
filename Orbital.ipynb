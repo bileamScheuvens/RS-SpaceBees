{
 "cells": [
  {
   "cell_type": "code",
   "execution_count": 1,
   "metadata": {},
   "outputs": [],
   "source": [
    "# Useful for defining quantities\n",
    "from astropy import units as u\n",
    "\n",
    "# Earth focused modules, ISS example orbit and time span generator\n",
    "from poliastro.earth import EarthSatellite\n",
    "from poliastro.earth.plotting import GroundtrackPlotter\n",
    "from poliastro.twobody import Orbit\n",
    "from poliastro.spacecraft import Spacecraft\n",
    "from poliastro.examples import iss\n",
    "from poliastro.util import time_range\n",
    "from poliastro.bodies import Earth"
   ]
  },
  {
   "cell_type": "code",
   "execution_count": null,
   "metadata": {},
   "outputs": [],
   "source": [
    "import numpy as np"
   ]
  },
  {
   "cell_type": "code",
   "execution_count": 2,
   "metadata": {},
   "outputs": [],
   "source": [
    "from ipywidgets import interact, interactive, fixed, interact_manual, FloatSlider, IntSlider\n",
    "import ipywidgets as widgets"
   ]
  },
  {
   "cell_type": "code",
   "execution_count": 25,
   "metadata": {},
   "outputs": [],
   "source": [
    "radius_E = 6400"
   ]
  },
  {
   "cell_type": "code",
   "execution_count": 51,
   "metadata": {},
   "outputs": [
    {
     "data": {
      "text/plain": [
       "(0.015784264402068565, 0.029845481523317945)"
      ]
     },
     "execution_count": 51,
     "metadata": {},
     "output_type": "execute_result"
    }
   ],
   "source": [
    "km2deg(100,100,45)"
   ]
  },
  {
   "cell_type": "code",
   "execution_count": 47,
   "metadata": {},
   "outputs": [],
   "source": [
    "def km2deg(dlatkm, dlonkm, lat):\n",
    "    dlat = np.deg2rad(dlatkm/110.574)\n",
    "    dlon = np.deg2rad(dlonkm/111.320/np.cos(lat))\n",
    "    \n",
    "    return dlat, dlon"
   ]
  },
  {
   "cell_type": "code",
   "execution_count": 57,
   "metadata": {},
   "outputs": [
    {
     "data": {
      "application/vnd.jupyter.widget-view+json": {
       "model_id": "367c48cc44284eae899ffdae347de9e5",
       "version_major": 2,
       "version_minor": 0
      },
      "text/plain": [
       "interactive(children=(FloatSlider(value=7000.0, continuous_update=False, description='h', max=19000.0, min=700…"
      ]
     },
     "metadata": {},
     "output_type": "display_data"
    }
   ],
   "source": [
    "@interact(h=FloatSlider(min=7000, max=19000, step=10, continuous_update=False),\n",
    "          i=FloatSlider(min=0, max=90, step=1, continuous_update=False),\n",
    "          duration=IntSlider(min=10, max=1000, step=10, continuous_update=False),\n",
    "          max_day_bn_rep=IntSlider(value=2,min=1, max=30, step=1, continuous_update=False),\n",
    "          ground_size=FloatSlider(min=0, max=90,value=20.,continuous_update=False))\n",
    "def groundtract(h, i, duration,max_day_bn_rep, ground_size):\n",
    "    # Build spacecraft instance\n",
    "    a = (radius_E+h) * u.km\n",
    "    ecc = 0 * u.one\n",
    "    inc = i * u.deg\n",
    "    raan = 0 * u.deg\n",
    "    argp = 0 * u.deg\n",
    "    nu = 0 * u.deg\n",
    "    orb = Orbit.from_classical(Earth, a, ecc, inc, raan, argp, nu)\n",
    "    print(\"Original period: \", orb.period.to(u.h))\n",
    "    #adjust to integer orbits in a day\n",
    "    T_E =  Earth.rotational_period.to(u.s)\n",
    "    ratio =T_E/orb.period \n",
    "    ratio = np.floor(max_day_bn_rep*ratio)/float(max_day_bn_rep)*u.one\n",
    "    new_period = T_E/ratio\n",
    "    a = (Earth.k*(new_period/2/np.pi)**2)**(1./3)\n",
    "    orb = Orbit.from_classical(Earth, a, ecc, inc, raan, argp, nu)\n",
    "\n",
    "    print(\"Adjusted period: \", orb.period.to(u.h), \"Adjusted altitude: \", (a - radius_E*u.km).to(u.km))\n",
    "    sat = EarthSatellite(orb, None)\n",
    "    t_span = time_range(orb.epoch, periods=duration*5, end=orb.epoch+duration * u.h)\n",
    "    gp = GroundtrackPlotter()\n",
    "    gp.update_layout(title=\"Groundtrack\")\n",
    "\n",
    "    # Plot previously defined EarthSatellite object\n",
    "    gp.plot(\n",
    "        sat,\n",
    "        t_span,\n",
    "        label=\"Sat\",\n",
    "        color = \"red\",\n",
    "    )\n",
    "    data = gp.fig.data[1]\n",
    "    theta = np.linspace(2*np.pi,0)\n",
    "    \n",
    "    for lat, lon in zip(data['lat'],data['lon']):\n",
    "        gp.fig.add_scattergeo(marker=None,fill='toself',fillcolor='blue', \n",
    "                      lat=lat+ground_size*np.sin(theta),\n",
    "                      lon=lon+ground_size*np.cos(theta),opacity=0.3)\n",
    "    gp.fig.show()"
   ]
  },
  {
   "cell_type": "code",
   "execution_count": 4,
   "metadata": {},
   "outputs": [
    {
     "ename": "NameError",
     "evalue": "name 'gp' is not defined",
     "output_type": "error",
     "traceback": [
      "\u001b[1;31m---------------------------------------------------------------------------\u001b[0m",
      "\u001b[1;31mNameError\u001b[0m                                 Traceback (most recent call last)",
      "\u001b[1;32m<ipython-input-4-28180b0c785a>\u001b[0m in \u001b[0;36m<module>\u001b[1;34m\u001b[0m\n\u001b[1;32m----> 1\u001b[1;33m \u001b[0mgp\u001b[0m\u001b[1;33m.\u001b[0m\u001b[0mupdate_geos\u001b[0m\u001b[1;33m(\u001b[0m\u001b[0mprojection_type\u001b[0m\u001b[1;33m=\u001b[0m\u001b[1;34m\"orthographic\"\u001b[0m\u001b[1;33m)\u001b[0m\u001b[1;33m\u001b[0m\u001b[1;33m\u001b[0m\u001b[0m\n\u001b[0m\u001b[0;32m      2\u001b[0m \u001b[0mgp\u001b[0m\u001b[1;33m.\u001b[0m\u001b[0mfig\u001b[0m\u001b[1;33m.\u001b[0m\u001b[0mshow\u001b[0m\u001b[1;33m(\u001b[0m\u001b[1;33m)\u001b[0m\u001b[1;33m\u001b[0m\u001b[1;33m\u001b[0m\u001b[0m\n",
      "\u001b[1;31mNameError\u001b[0m: name 'gp' is not defined"
     ]
    }
   ],
   "source": [
    "gp.update_geos(projection_type=\"orthographic\")\n",
    "gp.fig.show()"
   ]
  },
  {
   "cell_type": "code",
   "execution_count": 34,
   "metadata": {},
   "outputs": [
    {
     "name": "stdout",
     "output_type": "stream",
     "text": [
      "Original period:  1.6190323993572264 h\n"
     ]
    },
    {
     "data": {
      "application/vnd.plotly.v1+json": {
       "config": {
        "plotlyServerURL": "https://plot.ly"
       },
       "data": [
        {
         "type": "scattergeo"
        },
        {
         "lat": [
          -0.001442754070593799,
          7.097578036868763,
          9.997573859992508,
          6.911123435319029,
          -0.2614367807533416,
          -7.28124105048299,
          -9.990577771426628,
          -6.717861171376503,
          0.524135947177872,
          7.4598602375638015,
          9.976530156956928,
          6.519964177992425,
          -0.7864771204455271,
          -7.633306291165549,
          -9.955441207149274,
          -6.317573128477013,
          1.0482829600919947,
          7.801453380425576,
          9.927326567748075,
          6.110831455925685,
          -1.3093764841212554,
          -7.9641792653936285,
          -9.892207336020729,
          -5.899885260669302,
          1.5695811403703974,
          8.121365408808678,
          9.850110045661031,
          5.684883217500475,
          -1.82872087609582,
          -8.272897080972797,
          -9.801066642014439,
          -5.465976481958042,
          2.086620205414817,
          8.418663459672626,
          9.745114445773314,
          5.2433185960137845,
          -2.3431042793831955,
          -8.558557725187697,
          -9.682296105990215,
          -5.0170653901800355,
          2.5979989544328363,
          8.692477150058119,
          9.612659543230443,
          4.787374883964391,
          -2.8511308648028626,
          -8.820323184813214,
          -9.536257881079706,
          -4.5544071834264415,
          3.102327496649968,
          8.942001539082122
         ],
         "line": {
          "color": "red"
         },
         "lon": [
          79.80606315966219,
          121.67649207936991,
          164.43542812113964,
          207.17079337912693,
          249.0189640763423,
          290.91311355648224,
          333.69463321963127,
          16.404984763677163,
          58.231927237762534,
          100.15095909561472,
          142.95373813936266,
          185.6379598202778,
          227.44501528288822,
          269.3900247798675,
          312.21267662432876,
          354.8697281530578,
          36.65829054160122,
          78.63030326249893,
          121.4713829423056,
          164.10030270354028,
          205.87181487419053,
          247.87178376548567,
          290.72979208172137,
          333.3296996960082,
          15.085649511272482,
          57.11445209027902,
          99.98783994506795,
          142.55793857588168,
          184.29985489324974,
          226.35829063951877,
          269.2454635372574,
          311.7850419364496,
          353.5144905117483,
          35.60327844571379,
          78.50260115153662,
          121.0110354415243,
          162.72961475341378,
          204.8493912146476,
          247.75919254971168,
          290.2359477377955,
          331.94528474570495,
          14.096601376636489,
          57.015179136004534,
          99.45981036085794,
          141.16155620354056,
          183.34487814934306,
          226.27050412834396,
          268.6826576380512,
          310.37848328217683,
          352.5941876127951
         ],
         "mode": "lines",
         "name": "Sat",
         "type": "scattergeo"
        },
        {
         "lat": [
          -0.001442754070593799
         ],
         "lon": [
          79.80606315966219
         ],
         "marker": {
          "color": "red"
         },
         "name": "Sat",
         "showlegend": false,
         "type": "scattergeo"
        }
       ],
       "layout": {
        "geo": {
         "coastlinecolor": "Black",
         "landcolor": "#9fc164",
         "lataxis": {
          "gridcolor": "black",
          "showgrid": true
         },
         "lonaxis": {
          "gridcolor": "black",
          "showgrid": true
         },
         "oceancolor": "#b2d9ff",
         "showcoastlines": true,
         "showlakes": false,
         "showland": true,
         "showocean": true,
         "showrivers": false
        },
        "template": {
         "data": {
          "bar": [
           {
            "error_x": {
             "color": "#2a3f5f"
            },
            "error_y": {
             "color": "#2a3f5f"
            },
            "marker": {
             "line": {
              "color": "#E5ECF6",
              "width": 0.5
             }
            },
            "type": "bar"
           }
          ],
          "barpolar": [
           {
            "marker": {
             "line": {
              "color": "#E5ECF6",
              "width": 0.5
             }
            },
            "type": "barpolar"
           }
          ],
          "carpet": [
           {
            "aaxis": {
             "endlinecolor": "#2a3f5f",
             "gridcolor": "white",
             "linecolor": "white",
             "minorgridcolor": "white",
             "startlinecolor": "#2a3f5f"
            },
            "baxis": {
             "endlinecolor": "#2a3f5f",
             "gridcolor": "white",
             "linecolor": "white",
             "minorgridcolor": "white",
             "startlinecolor": "#2a3f5f"
            },
            "type": "carpet"
           }
          ],
          "choropleth": [
           {
            "colorbar": {
             "outlinewidth": 0,
             "ticks": ""
            },
            "type": "choropleth"
           }
          ],
          "contour": [
           {
            "colorbar": {
             "outlinewidth": 0,
             "ticks": ""
            },
            "colorscale": [
             [
              0,
              "#0d0887"
             ],
             [
              0.1111111111111111,
              "#46039f"
             ],
             [
              0.2222222222222222,
              "#7201a8"
             ],
             [
              0.3333333333333333,
              "#9c179e"
             ],
             [
              0.4444444444444444,
              "#bd3786"
             ],
             [
              0.5555555555555556,
              "#d8576b"
             ],
             [
              0.6666666666666666,
              "#ed7953"
             ],
             [
              0.7777777777777778,
              "#fb9f3a"
             ],
             [
              0.8888888888888888,
              "#fdca26"
             ],
             [
              1,
              "#f0f921"
             ]
            ],
            "type": "contour"
           }
          ],
          "contourcarpet": [
           {
            "colorbar": {
             "outlinewidth": 0,
             "ticks": ""
            },
            "type": "contourcarpet"
           }
          ],
          "heatmap": [
           {
            "colorbar": {
             "outlinewidth": 0,
             "ticks": ""
            },
            "colorscale": [
             [
              0,
              "#0d0887"
             ],
             [
              0.1111111111111111,
              "#46039f"
             ],
             [
              0.2222222222222222,
              "#7201a8"
             ],
             [
              0.3333333333333333,
              "#9c179e"
             ],
             [
              0.4444444444444444,
              "#bd3786"
             ],
             [
              0.5555555555555556,
              "#d8576b"
             ],
             [
              0.6666666666666666,
              "#ed7953"
             ],
             [
              0.7777777777777778,
              "#fb9f3a"
             ],
             [
              0.8888888888888888,
              "#fdca26"
             ],
             [
              1,
              "#f0f921"
             ]
            ],
            "type": "heatmap"
           }
          ],
          "heatmapgl": [
           {
            "colorbar": {
             "outlinewidth": 0,
             "ticks": ""
            },
            "colorscale": [
             [
              0,
              "#0d0887"
             ],
             [
              0.1111111111111111,
              "#46039f"
             ],
             [
              0.2222222222222222,
              "#7201a8"
             ],
             [
              0.3333333333333333,
              "#9c179e"
             ],
             [
              0.4444444444444444,
              "#bd3786"
             ],
             [
              0.5555555555555556,
              "#d8576b"
             ],
             [
              0.6666666666666666,
              "#ed7953"
             ],
             [
              0.7777777777777778,
              "#fb9f3a"
             ],
             [
              0.8888888888888888,
              "#fdca26"
             ],
             [
              1,
              "#f0f921"
             ]
            ],
            "type": "heatmapgl"
           }
          ],
          "histogram": [
           {
            "marker": {
             "colorbar": {
              "outlinewidth": 0,
              "ticks": ""
             }
            },
            "type": "histogram"
           }
          ],
          "histogram2d": [
           {
            "colorbar": {
             "outlinewidth": 0,
             "ticks": ""
            },
            "colorscale": [
             [
              0,
              "#0d0887"
             ],
             [
              0.1111111111111111,
              "#46039f"
             ],
             [
              0.2222222222222222,
              "#7201a8"
             ],
             [
              0.3333333333333333,
              "#9c179e"
             ],
             [
              0.4444444444444444,
              "#bd3786"
             ],
             [
              0.5555555555555556,
              "#d8576b"
             ],
             [
              0.6666666666666666,
              "#ed7953"
             ],
             [
              0.7777777777777778,
              "#fb9f3a"
             ],
             [
              0.8888888888888888,
              "#fdca26"
             ],
             [
              1,
              "#f0f921"
             ]
            ],
            "type": "histogram2d"
           }
          ],
          "histogram2dcontour": [
           {
            "colorbar": {
             "outlinewidth": 0,
             "ticks": ""
            },
            "colorscale": [
             [
              0,
              "#0d0887"
             ],
             [
              0.1111111111111111,
              "#46039f"
             ],
             [
              0.2222222222222222,
              "#7201a8"
             ],
             [
              0.3333333333333333,
              "#9c179e"
             ],
             [
              0.4444444444444444,
              "#bd3786"
             ],
             [
              0.5555555555555556,
              "#d8576b"
             ],
             [
              0.6666666666666666,
              "#ed7953"
             ],
             [
              0.7777777777777778,
              "#fb9f3a"
             ],
             [
              0.8888888888888888,
              "#fdca26"
             ],
             [
              1,
              "#f0f921"
             ]
            ],
            "type": "histogram2dcontour"
           }
          ],
          "mesh3d": [
           {
            "colorbar": {
             "outlinewidth": 0,
             "ticks": ""
            },
            "type": "mesh3d"
           }
          ],
          "parcoords": [
           {
            "line": {
             "colorbar": {
              "outlinewidth": 0,
              "ticks": ""
             }
            },
            "type": "parcoords"
           }
          ],
          "pie": [
           {
            "automargin": true,
            "type": "pie"
           }
          ],
          "scatter": [
           {
            "marker": {
             "colorbar": {
              "outlinewidth": 0,
              "ticks": ""
             }
            },
            "type": "scatter"
           }
          ],
          "scatter3d": [
           {
            "line": {
             "colorbar": {
              "outlinewidth": 0,
              "ticks": ""
             }
            },
            "marker": {
             "colorbar": {
              "outlinewidth": 0,
              "ticks": ""
             }
            },
            "type": "scatter3d"
           }
          ],
          "scattercarpet": [
           {
            "marker": {
             "colorbar": {
              "outlinewidth": 0,
              "ticks": ""
             }
            },
            "type": "scattercarpet"
           }
          ],
          "scattergeo": [
           {
            "marker": {
             "colorbar": {
              "outlinewidth": 0,
              "ticks": ""
             }
            },
            "type": "scattergeo"
           }
          ],
          "scattergl": [
           {
            "marker": {
             "colorbar": {
              "outlinewidth": 0,
              "ticks": ""
             }
            },
            "type": "scattergl"
           }
          ],
          "scattermapbox": [
           {
            "marker": {
             "colorbar": {
              "outlinewidth": 0,
              "ticks": ""
             }
            },
            "type": "scattermapbox"
           }
          ],
          "scatterpolar": [
           {
            "marker": {
             "colorbar": {
              "outlinewidth": 0,
              "ticks": ""
             }
            },
            "type": "scatterpolar"
           }
          ],
          "scatterpolargl": [
           {
            "marker": {
             "colorbar": {
              "outlinewidth": 0,
              "ticks": ""
             }
            },
            "type": "scatterpolargl"
           }
          ],
          "scatterternary": [
           {
            "marker": {
             "colorbar": {
              "outlinewidth": 0,
              "ticks": ""
             }
            },
            "type": "scatterternary"
           }
          ],
          "surface": [
           {
            "colorbar": {
             "outlinewidth": 0,
             "ticks": ""
            },
            "colorscale": [
             [
              0,
              "#0d0887"
             ],
             [
              0.1111111111111111,
              "#46039f"
             ],
             [
              0.2222222222222222,
              "#7201a8"
             ],
             [
              0.3333333333333333,
              "#9c179e"
             ],
             [
              0.4444444444444444,
              "#bd3786"
             ],
             [
              0.5555555555555556,
              "#d8576b"
             ],
             [
              0.6666666666666666,
              "#ed7953"
             ],
             [
              0.7777777777777778,
              "#fb9f3a"
             ],
             [
              0.8888888888888888,
              "#fdca26"
             ],
             [
              1,
              "#f0f921"
             ]
            ],
            "type": "surface"
           }
          ],
          "table": [
           {
            "cells": {
             "fill": {
              "color": "#EBF0F8"
             },
             "line": {
              "color": "white"
             }
            },
            "header": {
             "fill": {
              "color": "#C8D4E3"
             },
             "line": {
              "color": "white"
             }
            },
            "type": "table"
           }
          ]
         },
         "layout": {
          "annotationdefaults": {
           "arrowcolor": "#2a3f5f",
           "arrowhead": 0,
           "arrowwidth": 1
          },
          "autotypenumbers": "strict",
          "coloraxis": {
           "colorbar": {
            "outlinewidth": 0,
            "ticks": ""
           }
          },
          "colorscale": {
           "diverging": [
            [
             0,
             "#8e0152"
            ],
            [
             0.1,
             "#c51b7d"
            ],
            [
             0.2,
             "#de77ae"
            ],
            [
             0.3,
             "#f1b6da"
            ],
            [
             0.4,
             "#fde0ef"
            ],
            [
             0.5,
             "#f7f7f7"
            ],
            [
             0.6,
             "#e6f5d0"
            ],
            [
             0.7,
             "#b8e186"
            ],
            [
             0.8,
             "#7fbc41"
            ],
            [
             0.9,
             "#4d9221"
            ],
            [
             1,
             "#276419"
            ]
           ],
           "sequential": [
            [
             0,
             "#0d0887"
            ],
            [
             0.1111111111111111,
             "#46039f"
            ],
            [
             0.2222222222222222,
             "#7201a8"
            ],
            [
             0.3333333333333333,
             "#9c179e"
            ],
            [
             0.4444444444444444,
             "#bd3786"
            ],
            [
             0.5555555555555556,
             "#d8576b"
            ],
            [
             0.6666666666666666,
             "#ed7953"
            ],
            [
             0.7777777777777778,
             "#fb9f3a"
            ],
            [
             0.8888888888888888,
             "#fdca26"
            ],
            [
             1,
             "#f0f921"
            ]
           ],
           "sequentialminus": [
            [
             0,
             "#0d0887"
            ],
            [
             0.1111111111111111,
             "#46039f"
            ],
            [
             0.2222222222222222,
             "#7201a8"
            ],
            [
             0.3333333333333333,
             "#9c179e"
            ],
            [
             0.4444444444444444,
             "#bd3786"
            ],
            [
             0.5555555555555556,
             "#d8576b"
            ],
            [
             0.6666666666666666,
             "#ed7953"
            ],
            [
             0.7777777777777778,
             "#fb9f3a"
            ],
            [
             0.8888888888888888,
             "#fdca26"
            ],
            [
             1,
             "#f0f921"
            ]
           ]
          },
          "colorway": [
           "#636efa",
           "#EF553B",
           "#00cc96",
           "#ab63fa",
           "#FFA15A",
           "#19d3f3",
           "#FF6692",
           "#B6E880",
           "#FF97FF",
           "#FECB52"
          ],
          "font": {
           "color": "#2a3f5f"
          },
          "geo": {
           "bgcolor": "white",
           "lakecolor": "white",
           "landcolor": "#E5ECF6",
           "showlakes": true,
           "showland": true,
           "subunitcolor": "white"
          },
          "hoverlabel": {
           "align": "left"
          },
          "hovermode": "closest",
          "mapbox": {
           "style": "light"
          },
          "paper_bgcolor": "white",
          "plot_bgcolor": "#E5ECF6",
          "polar": {
           "angularaxis": {
            "gridcolor": "white",
            "linecolor": "white",
            "ticks": ""
           },
           "bgcolor": "#E5ECF6",
           "radialaxis": {
            "gridcolor": "white",
            "linecolor": "white",
            "ticks": ""
           }
          },
          "scene": {
           "xaxis": {
            "backgroundcolor": "#E5ECF6",
            "gridcolor": "white",
            "gridwidth": 2,
            "linecolor": "white",
            "showbackground": true,
            "ticks": "",
            "zerolinecolor": "white"
           },
           "yaxis": {
            "backgroundcolor": "#E5ECF6",
            "gridcolor": "white",
            "gridwidth": 2,
            "linecolor": "white",
            "showbackground": true,
            "ticks": "",
            "zerolinecolor": "white"
           },
           "zaxis": {
            "backgroundcolor": "#E5ECF6",
            "gridcolor": "white",
            "gridwidth": 2,
            "linecolor": "white",
            "showbackground": true,
            "ticks": "",
            "zerolinecolor": "white"
           }
          },
          "shapedefaults": {
           "line": {
            "color": "#2a3f5f"
           }
          },
          "ternary": {
           "aaxis": {
            "gridcolor": "white",
            "linecolor": "white",
            "ticks": ""
           },
           "baxis": {
            "gridcolor": "white",
            "linecolor": "white",
            "ticks": ""
           },
           "bgcolor": "#E5ECF6",
           "caxis": {
            "gridcolor": "white",
            "linecolor": "white",
            "ticks": ""
           }
          },
          "title": {
           "x": 0.05
          },
          "xaxis": {
           "automargin": true,
           "gridcolor": "white",
           "linecolor": "white",
           "ticks": "",
           "title": {
            "standoff": 15
           },
           "zerolinecolor": "white",
           "zerolinewidth": 2
          },
          "yaxis": {
           "automargin": true,
           "gridcolor": "white",
           "linecolor": "white",
           "ticks": "",
           "title": {
            "standoff": 15
           },
           "zerolinecolor": "white",
           "zerolinewidth": 2
          }
         }
        },
        "title": {
         "text": "Groundtrack"
        }
       }
      },
      "text/html": [
       "<div>                            <div id=\"7081a5df-2280-42d4-8f3f-ec555e57fadd\" class=\"plotly-graph-div\" style=\"height:525px; width:100%;\"></div>            <script type=\"text/javascript\">                require([\"plotly\"], function(Plotly) {                    window.PLOTLYENV=window.PLOTLYENV || {};                                    if (document.getElementById(\"7081a5df-2280-42d4-8f3f-ec555e57fadd\")) {                    Plotly.newPlot(                        \"7081a5df-2280-42d4-8f3f-ec555e57fadd\",                        [{\"type\": \"scattergeo\"}, {\"lat\": [-0.001442754070593799, 7.097578036868763, 9.997573859992508, 6.911123435319029, -0.2614367807533416, -7.28124105048299, -9.990577771426628, -6.717861171376503, 0.524135947177872, 7.4598602375638015, 9.976530156956928, 6.519964177992425, -0.7864771204455271, -7.633306291165549, -9.955441207149274, -6.317573128477013, 1.0482829600919947, 7.801453380425576, 9.927326567748075, 6.110831455925685, -1.3093764841212554, -7.9641792653936285, -9.892207336020729, -5.899885260669302, 1.5695811403703974, 8.121365408808678, 9.850110045661031, 5.684883217500475, -1.82872087609582, -8.272897080972797, -9.801066642014439, -5.465976481958042, 2.086620205414817, 8.418663459672626, 9.745114445773314, 5.2433185960137845, -2.3431042793831955, -8.558557725187697, -9.682296105990215, -5.0170653901800355, 2.5979989544328363, 8.692477150058119, 9.612659543230443, 4.787374883964391, -2.8511308648028626, -8.820323184813214, -9.536257881079706, -4.5544071834264415, 3.102327496649968, 8.942001539082122], \"line\": {\"color\": \"red\"}, \"lon\": [79.80606315966219, 121.67649207936991, 164.43542812113964, 207.17079337912693, 249.0189640763423, 290.91311355648224, 333.69463321963127, 16.404984763677163, 58.231927237762534, 100.15095909561472, 142.95373813936266, 185.6379598202778, 227.44501528288822, 269.3900247798675, 312.21267662432876, 354.8697281530578, 36.65829054160122, 78.63030326249893, 121.4713829423056, 164.10030270354028, 205.87181487419053, 247.87178376548567, 290.72979208172137, 333.3296996960082, 15.085649511272482, 57.11445209027902, 99.98783994506795, 142.55793857588168, 184.29985489324974, 226.35829063951877, 269.2454635372574, 311.7850419364496, 353.5144905117483, 35.60327844571379, 78.50260115153662, 121.0110354415243, 162.72961475341378, 204.8493912146476, 247.75919254971168, 290.2359477377955, 331.94528474570495, 14.096601376636489, 57.015179136004534, 99.45981036085794, 141.16155620354056, 183.34487814934306, 226.27050412834396, 268.6826576380512, 310.37848328217683, 352.5941876127951], \"mode\": \"lines\", \"name\": \"Sat\", \"type\": \"scattergeo\"}, {\"lat\": [-0.001442754070593799], \"lon\": [79.80606315966219], \"marker\": {\"color\": \"red\"}, \"name\": \"Sat\", \"showlegend\": false, \"type\": \"scattergeo\"}],                        {\"geo\": {\"coastlinecolor\": \"Black\", \"landcolor\": \"#9fc164\", \"lataxis\": {\"gridcolor\": \"black\", \"showgrid\": true}, \"lonaxis\": {\"gridcolor\": \"black\", \"showgrid\": true}, \"oceancolor\": \"#b2d9ff\", \"showcoastlines\": true, \"showlakes\": false, \"showland\": true, \"showocean\": true, \"showrivers\": false}, \"template\": {\"data\": {\"bar\": [{\"error_x\": {\"color\": \"#2a3f5f\"}, \"error_y\": {\"color\": \"#2a3f5f\"}, \"marker\": {\"line\": {\"color\": \"#E5ECF6\", \"width\": 0.5}}, \"type\": \"bar\"}], \"barpolar\": [{\"marker\": {\"line\": {\"color\": \"#E5ECF6\", \"width\": 0.5}}, \"type\": \"barpolar\"}], \"carpet\": [{\"aaxis\": {\"endlinecolor\": \"#2a3f5f\", \"gridcolor\": \"white\", \"linecolor\": \"white\", \"minorgridcolor\": \"white\", \"startlinecolor\": \"#2a3f5f\"}, \"baxis\": {\"endlinecolor\": \"#2a3f5f\", \"gridcolor\": \"white\", \"linecolor\": \"white\", \"minorgridcolor\": \"white\", \"startlinecolor\": \"#2a3f5f\"}, \"type\": \"carpet\"}], \"choropleth\": [{\"colorbar\": {\"outlinewidth\": 0, \"ticks\": \"\"}, \"type\": \"choropleth\"}], \"contour\": [{\"colorbar\": {\"outlinewidth\": 0, \"ticks\": \"\"}, \"colorscale\": [[0.0, \"#0d0887\"], [0.1111111111111111, \"#46039f\"], [0.2222222222222222, \"#7201a8\"], [0.3333333333333333, \"#9c179e\"], [0.4444444444444444, \"#bd3786\"], [0.5555555555555556, \"#d8576b\"], [0.6666666666666666, \"#ed7953\"], [0.7777777777777778, \"#fb9f3a\"], [0.8888888888888888, \"#fdca26\"], [1.0, \"#f0f921\"]], \"type\": \"contour\"}], \"contourcarpet\": [{\"colorbar\": {\"outlinewidth\": 0, \"ticks\": \"\"}, \"type\": \"contourcarpet\"}], \"heatmap\": [{\"colorbar\": {\"outlinewidth\": 0, \"ticks\": \"\"}, \"colorscale\": [[0.0, \"#0d0887\"], [0.1111111111111111, \"#46039f\"], [0.2222222222222222, \"#7201a8\"], [0.3333333333333333, \"#9c179e\"], [0.4444444444444444, \"#bd3786\"], [0.5555555555555556, \"#d8576b\"], [0.6666666666666666, \"#ed7953\"], [0.7777777777777778, \"#fb9f3a\"], [0.8888888888888888, \"#fdca26\"], [1.0, \"#f0f921\"]], \"type\": \"heatmap\"}], \"heatmapgl\": [{\"colorbar\": {\"outlinewidth\": 0, \"ticks\": \"\"}, \"colorscale\": [[0.0, \"#0d0887\"], [0.1111111111111111, \"#46039f\"], [0.2222222222222222, \"#7201a8\"], [0.3333333333333333, \"#9c179e\"], [0.4444444444444444, \"#bd3786\"], [0.5555555555555556, \"#d8576b\"], [0.6666666666666666, \"#ed7953\"], [0.7777777777777778, \"#fb9f3a\"], [0.8888888888888888, \"#fdca26\"], [1.0, \"#f0f921\"]], \"type\": \"heatmapgl\"}], \"histogram\": [{\"marker\": {\"colorbar\": {\"outlinewidth\": 0, \"ticks\": \"\"}}, \"type\": \"histogram\"}], \"histogram2d\": [{\"colorbar\": {\"outlinewidth\": 0, \"ticks\": \"\"}, \"colorscale\": [[0.0, \"#0d0887\"], [0.1111111111111111, \"#46039f\"], [0.2222222222222222, \"#7201a8\"], [0.3333333333333333, \"#9c179e\"], [0.4444444444444444, \"#bd3786\"], [0.5555555555555556, \"#d8576b\"], [0.6666666666666666, \"#ed7953\"], [0.7777777777777778, \"#fb9f3a\"], [0.8888888888888888, \"#fdca26\"], [1.0, \"#f0f921\"]], \"type\": \"histogram2d\"}], \"histogram2dcontour\": [{\"colorbar\": {\"outlinewidth\": 0, \"ticks\": \"\"}, \"colorscale\": [[0.0, \"#0d0887\"], [0.1111111111111111, \"#46039f\"], [0.2222222222222222, \"#7201a8\"], [0.3333333333333333, \"#9c179e\"], [0.4444444444444444, \"#bd3786\"], [0.5555555555555556, \"#d8576b\"], [0.6666666666666666, \"#ed7953\"], [0.7777777777777778, \"#fb9f3a\"], [0.8888888888888888, \"#fdca26\"], [1.0, \"#f0f921\"]], \"type\": \"histogram2dcontour\"}], \"mesh3d\": [{\"colorbar\": {\"outlinewidth\": 0, \"ticks\": \"\"}, \"type\": \"mesh3d\"}], \"parcoords\": [{\"line\": {\"colorbar\": {\"outlinewidth\": 0, \"ticks\": \"\"}}, \"type\": \"parcoords\"}], \"pie\": [{\"automargin\": true, \"type\": \"pie\"}], \"scatter\": [{\"marker\": {\"colorbar\": {\"outlinewidth\": 0, \"ticks\": \"\"}}, \"type\": \"scatter\"}], \"scatter3d\": [{\"line\": {\"colorbar\": {\"outlinewidth\": 0, \"ticks\": \"\"}}, \"marker\": {\"colorbar\": {\"outlinewidth\": 0, \"ticks\": \"\"}}, \"type\": \"scatter3d\"}], \"scattercarpet\": [{\"marker\": {\"colorbar\": {\"outlinewidth\": 0, \"ticks\": \"\"}}, \"type\": \"scattercarpet\"}], \"scattergeo\": [{\"marker\": {\"colorbar\": {\"outlinewidth\": 0, \"ticks\": \"\"}}, \"type\": \"scattergeo\"}], \"scattergl\": [{\"marker\": {\"colorbar\": {\"outlinewidth\": 0, \"ticks\": \"\"}}, \"type\": \"scattergl\"}], \"scattermapbox\": [{\"marker\": {\"colorbar\": {\"outlinewidth\": 0, \"ticks\": \"\"}}, \"type\": \"scattermapbox\"}], \"scatterpolar\": [{\"marker\": {\"colorbar\": {\"outlinewidth\": 0, \"ticks\": \"\"}}, \"type\": \"scatterpolar\"}], \"scatterpolargl\": [{\"marker\": {\"colorbar\": {\"outlinewidth\": 0, \"ticks\": \"\"}}, \"type\": \"scatterpolargl\"}], \"scatterternary\": [{\"marker\": {\"colorbar\": {\"outlinewidth\": 0, \"ticks\": \"\"}}, \"type\": \"scatterternary\"}], \"surface\": [{\"colorbar\": {\"outlinewidth\": 0, \"ticks\": \"\"}, \"colorscale\": [[0.0, \"#0d0887\"], [0.1111111111111111, \"#46039f\"], [0.2222222222222222, \"#7201a8\"], [0.3333333333333333, \"#9c179e\"], [0.4444444444444444, \"#bd3786\"], [0.5555555555555556, \"#d8576b\"], [0.6666666666666666, \"#ed7953\"], [0.7777777777777778, \"#fb9f3a\"], [0.8888888888888888, \"#fdca26\"], [1.0, \"#f0f921\"]], \"type\": \"surface\"}], \"table\": [{\"cells\": {\"fill\": {\"color\": \"#EBF0F8\"}, \"line\": {\"color\": \"white\"}}, \"header\": {\"fill\": {\"color\": \"#C8D4E3\"}, \"line\": {\"color\": \"white\"}}, \"type\": \"table\"}]}, \"layout\": {\"annotationdefaults\": {\"arrowcolor\": \"#2a3f5f\", \"arrowhead\": 0, \"arrowwidth\": 1}, \"autotypenumbers\": \"strict\", \"coloraxis\": {\"colorbar\": {\"outlinewidth\": 0, \"ticks\": \"\"}}, \"colorscale\": {\"diverging\": [[0, \"#8e0152\"], [0.1, \"#c51b7d\"], [0.2, \"#de77ae\"], [0.3, \"#f1b6da\"], [0.4, \"#fde0ef\"], [0.5, \"#f7f7f7\"], [0.6, \"#e6f5d0\"], [0.7, \"#b8e186\"], [0.8, \"#7fbc41\"], [0.9, \"#4d9221\"], [1, \"#276419\"]], \"sequential\": [[0.0, \"#0d0887\"], [0.1111111111111111, \"#46039f\"], [0.2222222222222222, \"#7201a8\"], [0.3333333333333333, \"#9c179e\"], [0.4444444444444444, \"#bd3786\"], [0.5555555555555556, \"#d8576b\"], [0.6666666666666666, \"#ed7953\"], [0.7777777777777778, \"#fb9f3a\"], [0.8888888888888888, \"#fdca26\"], [1.0, \"#f0f921\"]], \"sequentialminus\": [[0.0, \"#0d0887\"], [0.1111111111111111, \"#46039f\"], [0.2222222222222222, \"#7201a8\"], [0.3333333333333333, \"#9c179e\"], [0.4444444444444444, \"#bd3786\"], [0.5555555555555556, \"#d8576b\"], [0.6666666666666666, \"#ed7953\"], [0.7777777777777778, \"#fb9f3a\"], [0.8888888888888888, \"#fdca26\"], [1.0, \"#f0f921\"]]}, \"colorway\": [\"#636efa\", \"#EF553B\", \"#00cc96\", \"#ab63fa\", \"#FFA15A\", \"#19d3f3\", \"#FF6692\", \"#B6E880\", \"#FF97FF\", \"#FECB52\"], \"font\": {\"color\": \"#2a3f5f\"}, \"geo\": {\"bgcolor\": \"white\", \"lakecolor\": \"white\", \"landcolor\": \"#E5ECF6\", \"showlakes\": true, \"showland\": true, \"subunitcolor\": \"white\"}, \"hoverlabel\": {\"align\": \"left\"}, \"hovermode\": \"closest\", \"mapbox\": {\"style\": \"light\"}, \"paper_bgcolor\": \"white\", \"plot_bgcolor\": \"#E5ECF6\", \"polar\": {\"angularaxis\": {\"gridcolor\": \"white\", \"linecolor\": \"white\", \"ticks\": \"\"}, \"bgcolor\": \"#E5ECF6\", \"radialaxis\": {\"gridcolor\": \"white\", \"linecolor\": \"white\", \"ticks\": \"\"}}, \"scene\": {\"xaxis\": {\"backgroundcolor\": \"#E5ECF6\", \"gridcolor\": \"white\", \"gridwidth\": 2, \"linecolor\": \"white\", \"showbackground\": true, \"ticks\": \"\", \"zerolinecolor\": \"white\"}, \"yaxis\": {\"backgroundcolor\": \"#E5ECF6\", \"gridcolor\": \"white\", \"gridwidth\": 2, \"linecolor\": \"white\", \"showbackground\": true, \"ticks\": \"\", \"zerolinecolor\": \"white\"}, \"zaxis\": {\"backgroundcolor\": \"#E5ECF6\", \"gridcolor\": \"white\", \"gridwidth\": 2, \"linecolor\": \"white\", \"showbackground\": true, \"ticks\": \"\", \"zerolinecolor\": \"white\"}}, \"shapedefaults\": {\"line\": {\"color\": \"#2a3f5f\"}}, \"ternary\": {\"aaxis\": {\"gridcolor\": \"white\", \"linecolor\": \"white\", \"ticks\": \"\"}, \"baxis\": {\"gridcolor\": \"white\", \"linecolor\": \"white\", \"ticks\": \"\"}, \"bgcolor\": \"#E5ECF6\", \"caxis\": {\"gridcolor\": \"white\", \"linecolor\": \"white\", \"ticks\": \"\"}}, \"title\": {\"x\": 0.05}, \"xaxis\": {\"automargin\": true, \"gridcolor\": \"white\", \"linecolor\": \"white\", \"ticks\": \"\", \"title\": {\"standoff\": 15}, \"zerolinecolor\": \"white\", \"zerolinewidth\": 2}, \"yaxis\": {\"automargin\": true, \"gridcolor\": \"white\", \"linecolor\": \"white\", \"ticks\": \"\", \"title\": {\"standoff\": 15}, \"zerolinecolor\": \"white\", \"zerolinewidth\": 2}}}, \"title\": {\"text\": \"Groundtrack\"}},                        {\"responsive\": true}                    ).then(function(){\n",
       "                            \n",
       "var gd = document.getElementById('7081a5df-2280-42d4-8f3f-ec555e57fadd');\n",
       "var x = new MutationObserver(function (mutations, observer) {{\n",
       "        var display = window.getComputedStyle(gd).display;\n",
       "        if (!display || display === 'none') {{\n",
       "            console.log([gd, 'removed!']);\n",
       "            Plotly.purge(gd);\n",
       "            observer.disconnect();\n",
       "        }}\n",
       "}});\n",
       "\n",
       "// Listen for the removal of the full notebook cells\n",
       "var notebookContainer = gd.closest('#notebook-container');\n",
       "if (notebookContainer) {{\n",
       "    x.observe(notebookContainer, {childList: true});\n",
       "}}\n",
       "\n",
       "// Listen for the clearing of the current output cell\n",
       "var outputEl = gd.closest('.output');\n",
       "if (outputEl) {{\n",
       "    x.observe(outputEl, {childList: true});\n",
       "}}\n",
       "\n",
       "                        })                };                });            </script>        </div>"
      ]
     },
     "metadata": {},
     "output_type": "display_data"
    }
   ],
   "source": [
    "a = 7000 * u.km\n",
    "ecc = 0 * u.one\n",
    "inc = 10 * u.deg\n",
    "raan = 0 * u.deg\n",
    "argp = 0 * u.deg\n",
    "nu = 0 * u.deg\n",
    "orb = Orbit.from_classical(Earth, a, ecc, inc, raan, argp, nu)\n",
    "print(\"Original period: \", orb.period.to(u.h))\n",
    "sat = EarthSatellite(orb, None)\n",
    "t_span = time_range(orb.epoch, periods=50, end=orb.epoch+10 * u.h)\n",
    "gp = GroundtrackPlotter()\n",
    "gp.update_layout(title=\"Groundtrack\")\n",
    "\n",
    "# Plot previously defined EarthSatellite object\n",
    "gp.plot(\n",
    "    sat,\n",
    "    t_span,\n",
    "    label=\"Sat\",\n",
    "    color = \"red\",\n",
    "    marker=None,\n",
    ")\n",
    "lat, lon = data\n",
    "\n",
    "gp.fig.add_scattergeo(fill='toself',fillcolor='blue', \n",
    "                      lat=[np.flipud(30+20*np.sin(theta)),np.flipud(-30+20*np.sin(theta))],\n",
    "                      lon=[np.flipud(20+20*np.cos(theta)),np.flipud(20+20*np.cos(theta))],opacity=0.3)"
   ]
  },
  {
   "cell_type": "code",
   "execution_count": 30,
   "metadata": {},
   "outputs": [
    {
     "data": {
      "text/plain": [
       "array([-1.44275407e-03,  7.09757804e+00,  9.99757386e+00,  6.91112344e+00,\n",
       "       -2.61436781e-01, -7.28124105e+00, -9.99057777e+00, -6.71786117e+00,\n",
       "        5.24135947e-01,  7.45986024e+00,  9.97653016e+00,  6.51996418e+00,\n",
       "       -7.86477120e-01, -7.63330629e+00, -9.95544121e+00, -6.31757313e+00,\n",
       "        1.04828296e+00,  7.80145338e+00,  9.92732657e+00,  6.11083146e+00,\n",
       "       -1.30937648e+00, -7.96417927e+00, -9.89220734e+00, -5.89988526e+00,\n",
       "        1.56958114e+00,  8.12136541e+00,  9.85011005e+00,  5.68488322e+00,\n",
       "       -1.82872088e+00, -8.27289708e+00, -9.80106664e+00, -5.46597648e+00,\n",
       "        2.08662021e+00,  8.41866346e+00,  9.74511445e+00,  5.24331860e+00,\n",
       "       -2.34310428e+00, -8.55855773e+00, -9.68229611e+00, -5.01706539e+00,\n",
       "        2.59799895e+00,  8.69247715e+00,  9.61265954e+00,  4.78737488e+00,\n",
       "       -2.85113086e+00, -8.82032318e+00, -9.53625788e+00, -4.55440718e+00,\n",
       "        3.10232750e+00,  8.94200154e+00])"
      ]
     },
     "execution_count": 30,
     "metadata": {},
     "output_type": "execute_result"
    }
   ],
   "source": [
    "gp.fig.data[1]['lat']"
   ]
  },
  {
   "cell_type": "code",
   "execution_count": 35,
   "metadata": {},
   "outputs": [
    {
     "data": {
      "application/vnd.plotly.v1+json": {
       "config": {
        "plotlyServerURL": "https://plot.ly"
       },
       "data": [
        {
         "type": "scattergeo"
        },
        {
         "lat": [
          -0.001442754070593799,
          7.097578036868763,
          9.997573859992508,
          6.911123435319029,
          -0.2614367807533416,
          -7.28124105048299,
          -9.990577771426628,
          -6.717861171376503,
          0.524135947177872,
          7.4598602375638015,
          9.976530156956928,
          6.519964177992425,
          -0.7864771204455271,
          -7.633306291165549,
          -9.955441207149274,
          -6.317573128477013,
          1.0482829600919947,
          7.801453380425576,
          9.927326567748075,
          6.110831455925685,
          -1.3093764841212554,
          -7.9641792653936285,
          -9.892207336020729,
          -5.899885260669302,
          1.5695811403703974,
          8.121365408808678,
          9.850110045661031,
          5.684883217500475,
          -1.82872087609582,
          -8.272897080972797,
          -9.801066642014439,
          -5.465976481958042,
          2.086620205414817,
          8.418663459672626,
          9.745114445773314,
          5.2433185960137845,
          -2.3431042793831955,
          -8.558557725187697,
          -9.682296105990215,
          -5.0170653901800355,
          2.5979989544328363,
          8.692477150058119,
          9.612659543230443,
          4.787374883964391,
          -2.8511308648028626,
          -8.820323184813214,
          -9.536257881079706,
          -4.5544071834264415,
          3.102327496649968,
          8.942001539082122
         ],
         "line": {
          "color": "red"
         },
         "lon": [
          79.80606315966219,
          121.67649207936991,
          164.43542812113964,
          207.17079337912693,
          249.0189640763423,
          290.91311355648224,
          333.69463321963127,
          16.404984763677163,
          58.231927237762534,
          100.15095909561472,
          142.95373813936266,
          185.6379598202778,
          227.44501528288822,
          269.3900247798675,
          312.21267662432876,
          354.8697281530578,
          36.65829054160122,
          78.63030326249893,
          121.4713829423056,
          164.10030270354028,
          205.87181487419053,
          247.87178376548567,
          290.72979208172137,
          333.3296996960082,
          15.085649511272482,
          57.11445209027902,
          99.98783994506795,
          142.55793857588168,
          184.29985489324974,
          226.35829063951877,
          269.2454635372574,
          311.7850419364496,
          353.5144905117483,
          35.60327844571379,
          78.50260115153662,
          121.0110354415243,
          162.72961475341378,
          204.8493912146476,
          247.75919254971168,
          290.2359477377955,
          331.94528474570495,
          14.096601376636489,
          57.015179136004534,
          99.45981036085794,
          141.16155620354056,
          183.34487814934306,
          226.27050412834396,
          268.6826576380512,
          310.37848328217683,
          352.5941876127951
         ],
         "mode": "lines",
         "name": "Sat",
         "type": "scattergeo"
        },
        {
         "lat": [
          -0.001442754070593799
         ],
         "lon": [
          79.80606315966219
         ],
         "marker": {
          "color": "red"
         },
         "name": "Sat",
         "showlegend": false,
         "type": "scattergeo"
        },
        {
         "fill": "toself",
         "fillcolor": "blue",
         "lat": [
          [
           29.999999999999996,
           27.442456766309867,
           24.926908321809833,
           22.494659902412508,
           20.185648959921227,
           18.037789390175675,
           16.08634898793026,
           14.363370350639402,
           12.897144739893072,
           11.711747539683742,
           10.826642939266783,
           10.256364331710994,
           10.010275675986243,
           10.092417741016039,
           10.501441756363526,
           11.230631559004795,
           12.26801387254,
           13.596554908060888,
           15.194440058493694,
           17.035432093844236,
           19.08930197578903,
           21.32232521764884,
           23.697835639527597,
           26.17682742597256,
           28.71859560038575,
           31.281404399614264,
           33.82317257402745,
           36.30216436047242,
           38.67767478235116,
           40.91069802421098,
           42.96456790615578,
           44.80555994150632,
           46.40344509193912,
           47.731986127460004,
           48.76936844099521,
           49.498558243636474,
           49.907582258983965,
           49.98972432401376,
           49.743635668289,
           49.17335706073321,
           48.288252460316244,
           47.10285526010692,
           45.6366296493606,
           43.91365101206973,
           41.96221060982432,
           39.814351040078755,
           37.50534009758748,
           35.073091678190146,
           32.55754323369012,
           30
          ],
          [
           -30.000000000000004,
           -32.55754323369013,
           -35.07309167819017,
           -37.50534009758749,
           -39.814351040078776,
           -41.962210609824325,
           -43.913651012069735,
           -45.6366296493606,
           -47.10285526010693,
           -48.28825246031626,
           -49.17335706073322,
           -49.743635668289,
           -49.98972432401376,
           -49.907582258983965,
           -49.498558243636474,
           -48.76936844099521,
           -47.731986127460004,
           -46.40344509193911,
           -44.8055599415063,
           -42.964567906155764,
           -40.91069802421097,
           -38.67767478235116,
           -36.3021643604724,
           -33.82317257402744,
           -31.28140439961425,
           -28.718595600385736,
           -26.176827425972547,
           -23.697835639527582,
           -21.322325217648835,
           -19.08930197578902,
           -17.035432093844225,
           -15.194440058493687,
           -13.596554908060881,
           -12.26801387254,
           -11.230631559004792,
           -10.501441756363526,
           -10.092417741016035,
           -10.010275675986243,
           -10.256364331710998,
           -10.82664293926679,
           -11.711747539683753,
           -12.89714473989308,
           -14.363370350639403,
           -16.086348987930272,
           -18.037789390175682,
           -20.185648959921245,
           -22.49465990241252,
           -24.926908321809854,
           -27.44245676630988,
           -30
          ]
         ],
         "lon": [
          [
           40,
           39.83580027646492,
           39.34589726078058,
           38.53833514692043,
           37.42637408246778,
           36.02827243735913,
           34.36698700195454,
           32.46979603717467,
           30.367851366210488,
           28.095666862447857,
           25.69055173262064,
           23.191997900667566,
           20.641031551433098,
           18.07953948184635,
           15.549581320873708,
           13.092698911573837,
           10.749234195183293,
           8.5576667975566,
           6.55398219477366,
           4.771080832617308,
           3.238237902163185,
           1.9806226419516157,
           1.0188850597866228,
           0.36881686017868986,
           0.04109214499327152,
           0.04109214499327152,
           0.3688168601786934,
           1.0188850597866264,
           1.9806226419516193,
           3.238237902163192,
           4.771080832617315,
           6.553982194773669,
           8.55766679755661,
           10.749234195183298,
           13.09269891157385,
           15.549581320873713,
           18.079539481846368,
           20.641031551433105,
           23.191997900667587,
           25.690551732620655,
           28.095666862447878,
           30.367851366210502,
           32.469796037174675,
           34.366987001954556,
           36.028272437359135,
           37.42637408246779,
           38.53833514692043,
           39.34589726078059,
           39.83580027646492,
           40
          ],
          [
           40,
           39.83580027646492,
           39.34589726078058,
           38.53833514692043,
           37.42637408246778,
           36.02827243735913,
           34.36698700195454,
           32.46979603717467,
           30.367851366210488,
           28.095666862447857,
           25.69055173262064,
           23.191997900667566,
           20.641031551433098,
           18.07953948184635,
           15.549581320873708,
           13.092698911573837,
           10.749234195183293,
           8.5576667975566,
           6.55398219477366,
           4.771080832617308,
           3.238237902163185,
           1.9806226419516157,
           1.0188850597866228,
           0.36881686017868986,
           0.04109214499327152,
           0.04109214499327152,
           0.3688168601786934,
           1.0188850597866264,
           1.9806226419516193,
           3.238237902163192,
           4.771080832617315,
           6.553982194773669,
           8.55766679755661,
           10.749234195183298,
           13.09269891157385,
           15.549581320873713,
           18.079539481846368,
           20.641031551433105,
           23.191997900667587,
           25.690551732620655,
           28.095666862447878,
           30.367851366210502,
           32.469796037174675,
           34.366987001954556,
           36.028272437359135,
           37.42637408246779,
           38.53833514692043,
           39.34589726078059,
           39.83580027646492,
           40
          ]
         ],
         "opacity": 0.3,
         "type": "scattergeo"
        }
       ],
       "layout": {
        "geo": {
         "coastlinecolor": "Black",
         "landcolor": "#9fc164",
         "lataxis": {
          "gridcolor": "black",
          "showgrid": true
         },
         "lonaxis": {
          "gridcolor": "black",
          "showgrid": true
         },
         "oceancolor": "#b2d9ff",
         "showcoastlines": true,
         "showlakes": false,
         "showland": true,
         "showocean": true,
         "showrivers": false
        },
        "template": {
         "data": {
          "bar": [
           {
            "error_x": {
             "color": "#2a3f5f"
            },
            "error_y": {
             "color": "#2a3f5f"
            },
            "marker": {
             "line": {
              "color": "#E5ECF6",
              "width": 0.5
             }
            },
            "type": "bar"
           }
          ],
          "barpolar": [
           {
            "marker": {
             "line": {
              "color": "#E5ECF6",
              "width": 0.5
             }
            },
            "type": "barpolar"
           }
          ],
          "carpet": [
           {
            "aaxis": {
             "endlinecolor": "#2a3f5f",
             "gridcolor": "white",
             "linecolor": "white",
             "minorgridcolor": "white",
             "startlinecolor": "#2a3f5f"
            },
            "baxis": {
             "endlinecolor": "#2a3f5f",
             "gridcolor": "white",
             "linecolor": "white",
             "minorgridcolor": "white",
             "startlinecolor": "#2a3f5f"
            },
            "type": "carpet"
           }
          ],
          "choropleth": [
           {
            "colorbar": {
             "outlinewidth": 0,
             "ticks": ""
            },
            "type": "choropleth"
           }
          ],
          "contour": [
           {
            "colorbar": {
             "outlinewidth": 0,
             "ticks": ""
            },
            "colorscale": [
             [
              0,
              "#0d0887"
             ],
             [
              0.1111111111111111,
              "#46039f"
             ],
             [
              0.2222222222222222,
              "#7201a8"
             ],
             [
              0.3333333333333333,
              "#9c179e"
             ],
             [
              0.4444444444444444,
              "#bd3786"
             ],
             [
              0.5555555555555556,
              "#d8576b"
             ],
             [
              0.6666666666666666,
              "#ed7953"
             ],
             [
              0.7777777777777778,
              "#fb9f3a"
             ],
             [
              0.8888888888888888,
              "#fdca26"
             ],
             [
              1,
              "#f0f921"
             ]
            ],
            "type": "contour"
           }
          ],
          "contourcarpet": [
           {
            "colorbar": {
             "outlinewidth": 0,
             "ticks": ""
            },
            "type": "contourcarpet"
           }
          ],
          "heatmap": [
           {
            "colorbar": {
             "outlinewidth": 0,
             "ticks": ""
            },
            "colorscale": [
             [
              0,
              "#0d0887"
             ],
             [
              0.1111111111111111,
              "#46039f"
             ],
             [
              0.2222222222222222,
              "#7201a8"
             ],
             [
              0.3333333333333333,
              "#9c179e"
             ],
             [
              0.4444444444444444,
              "#bd3786"
             ],
             [
              0.5555555555555556,
              "#d8576b"
             ],
             [
              0.6666666666666666,
              "#ed7953"
             ],
             [
              0.7777777777777778,
              "#fb9f3a"
             ],
             [
              0.8888888888888888,
              "#fdca26"
             ],
             [
              1,
              "#f0f921"
             ]
            ],
            "type": "heatmap"
           }
          ],
          "heatmapgl": [
           {
            "colorbar": {
             "outlinewidth": 0,
             "ticks": ""
            },
            "colorscale": [
             [
              0,
              "#0d0887"
             ],
             [
              0.1111111111111111,
              "#46039f"
             ],
             [
              0.2222222222222222,
              "#7201a8"
             ],
             [
              0.3333333333333333,
              "#9c179e"
             ],
             [
              0.4444444444444444,
              "#bd3786"
             ],
             [
              0.5555555555555556,
              "#d8576b"
             ],
             [
              0.6666666666666666,
              "#ed7953"
             ],
             [
              0.7777777777777778,
              "#fb9f3a"
             ],
             [
              0.8888888888888888,
              "#fdca26"
             ],
             [
              1,
              "#f0f921"
             ]
            ],
            "type": "heatmapgl"
           }
          ],
          "histogram": [
           {
            "marker": {
             "colorbar": {
              "outlinewidth": 0,
              "ticks": ""
             }
            },
            "type": "histogram"
           }
          ],
          "histogram2d": [
           {
            "colorbar": {
             "outlinewidth": 0,
             "ticks": ""
            },
            "colorscale": [
             [
              0,
              "#0d0887"
             ],
             [
              0.1111111111111111,
              "#46039f"
             ],
             [
              0.2222222222222222,
              "#7201a8"
             ],
             [
              0.3333333333333333,
              "#9c179e"
             ],
             [
              0.4444444444444444,
              "#bd3786"
             ],
             [
              0.5555555555555556,
              "#d8576b"
             ],
             [
              0.6666666666666666,
              "#ed7953"
             ],
             [
              0.7777777777777778,
              "#fb9f3a"
             ],
             [
              0.8888888888888888,
              "#fdca26"
             ],
             [
              1,
              "#f0f921"
             ]
            ],
            "type": "histogram2d"
           }
          ],
          "histogram2dcontour": [
           {
            "colorbar": {
             "outlinewidth": 0,
             "ticks": ""
            },
            "colorscale": [
             [
              0,
              "#0d0887"
             ],
             [
              0.1111111111111111,
              "#46039f"
             ],
             [
              0.2222222222222222,
              "#7201a8"
             ],
             [
              0.3333333333333333,
              "#9c179e"
             ],
             [
              0.4444444444444444,
              "#bd3786"
             ],
             [
              0.5555555555555556,
              "#d8576b"
             ],
             [
              0.6666666666666666,
              "#ed7953"
             ],
             [
              0.7777777777777778,
              "#fb9f3a"
             ],
             [
              0.8888888888888888,
              "#fdca26"
             ],
             [
              1,
              "#f0f921"
             ]
            ],
            "type": "histogram2dcontour"
           }
          ],
          "mesh3d": [
           {
            "colorbar": {
             "outlinewidth": 0,
             "ticks": ""
            },
            "type": "mesh3d"
           }
          ],
          "parcoords": [
           {
            "line": {
             "colorbar": {
              "outlinewidth": 0,
              "ticks": ""
             }
            },
            "type": "parcoords"
           }
          ],
          "pie": [
           {
            "automargin": true,
            "type": "pie"
           }
          ],
          "scatter": [
           {
            "marker": {
             "colorbar": {
              "outlinewidth": 0,
              "ticks": ""
             }
            },
            "type": "scatter"
           }
          ],
          "scatter3d": [
           {
            "line": {
             "colorbar": {
              "outlinewidth": 0,
              "ticks": ""
             }
            },
            "marker": {
             "colorbar": {
              "outlinewidth": 0,
              "ticks": ""
             }
            },
            "type": "scatter3d"
           }
          ],
          "scattercarpet": [
           {
            "marker": {
             "colorbar": {
              "outlinewidth": 0,
              "ticks": ""
             }
            },
            "type": "scattercarpet"
           }
          ],
          "scattergeo": [
           {
            "marker": {
             "colorbar": {
              "outlinewidth": 0,
              "ticks": ""
             }
            },
            "type": "scattergeo"
           }
          ],
          "scattergl": [
           {
            "marker": {
             "colorbar": {
              "outlinewidth": 0,
              "ticks": ""
             }
            },
            "type": "scattergl"
           }
          ],
          "scattermapbox": [
           {
            "marker": {
             "colorbar": {
              "outlinewidth": 0,
              "ticks": ""
             }
            },
            "type": "scattermapbox"
           }
          ],
          "scatterpolar": [
           {
            "marker": {
             "colorbar": {
              "outlinewidth": 0,
              "ticks": ""
             }
            },
            "type": "scatterpolar"
           }
          ],
          "scatterpolargl": [
           {
            "marker": {
             "colorbar": {
              "outlinewidth": 0,
              "ticks": ""
             }
            },
            "type": "scatterpolargl"
           }
          ],
          "scatterternary": [
           {
            "marker": {
             "colorbar": {
              "outlinewidth": 0,
              "ticks": ""
             }
            },
            "type": "scatterternary"
           }
          ],
          "surface": [
           {
            "colorbar": {
             "outlinewidth": 0,
             "ticks": ""
            },
            "colorscale": [
             [
              0,
              "#0d0887"
             ],
             [
              0.1111111111111111,
              "#46039f"
             ],
             [
              0.2222222222222222,
              "#7201a8"
             ],
             [
              0.3333333333333333,
              "#9c179e"
             ],
             [
              0.4444444444444444,
              "#bd3786"
             ],
             [
              0.5555555555555556,
              "#d8576b"
             ],
             [
              0.6666666666666666,
              "#ed7953"
             ],
             [
              0.7777777777777778,
              "#fb9f3a"
             ],
             [
              0.8888888888888888,
              "#fdca26"
             ],
             [
              1,
              "#f0f921"
             ]
            ],
            "type": "surface"
           }
          ],
          "table": [
           {
            "cells": {
             "fill": {
              "color": "#EBF0F8"
             },
             "line": {
              "color": "white"
             }
            },
            "header": {
             "fill": {
              "color": "#C8D4E3"
             },
             "line": {
              "color": "white"
             }
            },
            "type": "table"
           }
          ]
         },
         "layout": {
          "annotationdefaults": {
           "arrowcolor": "#2a3f5f",
           "arrowhead": 0,
           "arrowwidth": 1
          },
          "autotypenumbers": "strict",
          "coloraxis": {
           "colorbar": {
            "outlinewidth": 0,
            "ticks": ""
           }
          },
          "colorscale": {
           "diverging": [
            [
             0,
             "#8e0152"
            ],
            [
             0.1,
             "#c51b7d"
            ],
            [
             0.2,
             "#de77ae"
            ],
            [
             0.3,
             "#f1b6da"
            ],
            [
             0.4,
             "#fde0ef"
            ],
            [
             0.5,
             "#f7f7f7"
            ],
            [
             0.6,
             "#e6f5d0"
            ],
            [
             0.7,
             "#b8e186"
            ],
            [
             0.8,
             "#7fbc41"
            ],
            [
             0.9,
             "#4d9221"
            ],
            [
             1,
             "#276419"
            ]
           ],
           "sequential": [
            [
             0,
             "#0d0887"
            ],
            [
             0.1111111111111111,
             "#46039f"
            ],
            [
             0.2222222222222222,
             "#7201a8"
            ],
            [
             0.3333333333333333,
             "#9c179e"
            ],
            [
             0.4444444444444444,
             "#bd3786"
            ],
            [
             0.5555555555555556,
             "#d8576b"
            ],
            [
             0.6666666666666666,
             "#ed7953"
            ],
            [
             0.7777777777777778,
             "#fb9f3a"
            ],
            [
             0.8888888888888888,
             "#fdca26"
            ],
            [
             1,
             "#f0f921"
            ]
           ],
           "sequentialminus": [
            [
             0,
             "#0d0887"
            ],
            [
             0.1111111111111111,
             "#46039f"
            ],
            [
             0.2222222222222222,
             "#7201a8"
            ],
            [
             0.3333333333333333,
             "#9c179e"
            ],
            [
             0.4444444444444444,
             "#bd3786"
            ],
            [
             0.5555555555555556,
             "#d8576b"
            ],
            [
             0.6666666666666666,
             "#ed7953"
            ],
            [
             0.7777777777777778,
             "#fb9f3a"
            ],
            [
             0.8888888888888888,
             "#fdca26"
            ],
            [
             1,
             "#f0f921"
            ]
           ]
          },
          "colorway": [
           "#636efa",
           "#EF553B",
           "#00cc96",
           "#ab63fa",
           "#FFA15A",
           "#19d3f3",
           "#FF6692",
           "#B6E880",
           "#FF97FF",
           "#FECB52"
          ],
          "font": {
           "color": "#2a3f5f"
          },
          "geo": {
           "bgcolor": "white",
           "lakecolor": "white",
           "landcolor": "#E5ECF6",
           "showlakes": true,
           "showland": true,
           "subunitcolor": "white"
          },
          "hoverlabel": {
           "align": "left"
          },
          "hovermode": "closest",
          "mapbox": {
           "style": "light"
          },
          "paper_bgcolor": "white",
          "plot_bgcolor": "#E5ECF6",
          "polar": {
           "angularaxis": {
            "gridcolor": "white",
            "linecolor": "white",
            "ticks": ""
           },
           "bgcolor": "#E5ECF6",
           "radialaxis": {
            "gridcolor": "white",
            "linecolor": "white",
            "ticks": ""
           }
          },
          "scene": {
           "xaxis": {
            "backgroundcolor": "#E5ECF6",
            "gridcolor": "white",
            "gridwidth": 2,
            "linecolor": "white",
            "showbackground": true,
            "ticks": "",
            "zerolinecolor": "white"
           },
           "yaxis": {
            "backgroundcolor": "#E5ECF6",
            "gridcolor": "white",
            "gridwidth": 2,
            "linecolor": "white",
            "showbackground": true,
            "ticks": "",
            "zerolinecolor": "white"
           },
           "zaxis": {
            "backgroundcolor": "#E5ECF6",
            "gridcolor": "white",
            "gridwidth": 2,
            "linecolor": "white",
            "showbackground": true,
            "ticks": "",
            "zerolinecolor": "white"
           }
          },
          "shapedefaults": {
           "line": {
            "color": "#2a3f5f"
           }
          },
          "ternary": {
           "aaxis": {
            "gridcolor": "white",
            "linecolor": "white",
            "ticks": ""
           },
           "baxis": {
            "gridcolor": "white",
            "linecolor": "white",
            "ticks": ""
           },
           "bgcolor": "#E5ECF6",
           "caxis": {
            "gridcolor": "white",
            "linecolor": "white",
            "ticks": ""
           }
          },
          "title": {
           "x": 0.05
          },
          "xaxis": {
           "automargin": true,
           "gridcolor": "white",
           "linecolor": "white",
           "ticks": "",
           "title": {
            "standoff": 15
           },
           "zerolinecolor": "white",
           "zerolinewidth": 2
          },
          "yaxis": {
           "automargin": true,
           "gridcolor": "white",
           "linecolor": "white",
           "ticks": "",
           "title": {
            "standoff": 15
           },
           "zerolinecolor": "white",
           "zerolinewidth": 2
          }
         }
        },
        "title": {
         "text": "Groundtrack"
        }
       }
      },
      "text/html": [
       "<div>                            <div id=\"11a7dd36-c484-4970-8738-d6bc8241943f\" class=\"plotly-graph-div\" style=\"height:525px; width:100%;\"></div>            <script type=\"text/javascript\">                require([\"plotly\"], function(Plotly) {                    window.PLOTLYENV=window.PLOTLYENV || {};                                    if (document.getElementById(\"11a7dd36-c484-4970-8738-d6bc8241943f\")) {                    Plotly.newPlot(                        \"11a7dd36-c484-4970-8738-d6bc8241943f\",                        [{\"type\": \"scattergeo\"}, {\"lat\": [-0.001442754070593799, 7.097578036868763, 9.997573859992508, 6.911123435319029, -0.2614367807533416, -7.28124105048299, -9.990577771426628, -6.717861171376503, 0.524135947177872, 7.4598602375638015, 9.976530156956928, 6.519964177992425, -0.7864771204455271, -7.633306291165549, -9.955441207149274, -6.317573128477013, 1.0482829600919947, 7.801453380425576, 9.927326567748075, 6.110831455925685, -1.3093764841212554, -7.9641792653936285, -9.892207336020729, -5.899885260669302, 1.5695811403703974, 8.121365408808678, 9.850110045661031, 5.684883217500475, -1.82872087609582, -8.272897080972797, -9.801066642014439, -5.465976481958042, 2.086620205414817, 8.418663459672626, 9.745114445773314, 5.2433185960137845, -2.3431042793831955, -8.558557725187697, -9.682296105990215, -5.0170653901800355, 2.5979989544328363, 8.692477150058119, 9.612659543230443, 4.787374883964391, -2.8511308648028626, -8.820323184813214, -9.536257881079706, -4.5544071834264415, 3.102327496649968, 8.942001539082122], \"line\": {\"color\": \"red\"}, \"lon\": [79.80606315966219, 121.67649207936991, 164.43542812113964, 207.17079337912693, 249.0189640763423, 290.91311355648224, 333.69463321963127, 16.404984763677163, 58.231927237762534, 100.15095909561472, 142.95373813936266, 185.6379598202778, 227.44501528288822, 269.3900247798675, 312.21267662432876, 354.8697281530578, 36.65829054160122, 78.63030326249893, 121.4713829423056, 164.10030270354028, 205.87181487419053, 247.87178376548567, 290.72979208172137, 333.3296996960082, 15.085649511272482, 57.11445209027902, 99.98783994506795, 142.55793857588168, 184.29985489324974, 226.35829063951877, 269.2454635372574, 311.7850419364496, 353.5144905117483, 35.60327844571379, 78.50260115153662, 121.0110354415243, 162.72961475341378, 204.8493912146476, 247.75919254971168, 290.2359477377955, 331.94528474570495, 14.096601376636489, 57.015179136004534, 99.45981036085794, 141.16155620354056, 183.34487814934306, 226.27050412834396, 268.6826576380512, 310.37848328217683, 352.5941876127951], \"mode\": \"lines\", \"name\": \"Sat\", \"type\": \"scattergeo\"}, {\"lat\": [-0.001442754070593799], \"lon\": [79.80606315966219], \"marker\": {\"color\": \"red\"}, \"name\": \"Sat\", \"showlegend\": false, \"type\": \"scattergeo\"}, {\"fill\": \"toself\", \"fillcolor\": \"blue\", \"lat\": [[29.999999999999996, 27.442456766309867, 24.926908321809833, 22.494659902412508, 20.185648959921227, 18.037789390175675, 16.08634898793026, 14.363370350639402, 12.897144739893072, 11.711747539683742, 10.826642939266783, 10.256364331710994, 10.010275675986243, 10.092417741016039, 10.501441756363526, 11.230631559004795, 12.26801387254, 13.596554908060888, 15.194440058493694, 17.035432093844236, 19.08930197578903, 21.32232521764884, 23.697835639527597, 26.17682742597256, 28.71859560038575, 31.281404399614264, 33.82317257402745, 36.30216436047242, 38.67767478235116, 40.91069802421098, 42.96456790615578, 44.80555994150632, 46.40344509193912, 47.731986127460004, 48.76936844099521, 49.498558243636474, 49.907582258983965, 49.98972432401376, 49.743635668289, 49.17335706073321, 48.288252460316244, 47.10285526010692, 45.6366296493606, 43.91365101206973, 41.96221060982432, 39.814351040078755, 37.50534009758748, 35.073091678190146, 32.55754323369012, 30.0], [-30.000000000000004, -32.55754323369013, -35.07309167819017, -37.50534009758749, -39.814351040078776, -41.962210609824325, -43.913651012069735, -45.6366296493606, -47.10285526010693, -48.28825246031626, -49.17335706073322, -49.743635668289, -49.98972432401376, -49.907582258983965, -49.498558243636474, -48.76936844099521, -47.731986127460004, -46.40344509193911, -44.8055599415063, -42.964567906155764, -40.91069802421097, -38.67767478235116, -36.3021643604724, -33.82317257402744, -31.28140439961425, -28.718595600385736, -26.176827425972547, -23.697835639527582, -21.322325217648835, -19.08930197578902, -17.035432093844225, -15.194440058493687, -13.596554908060881, -12.26801387254, -11.230631559004792, -10.501441756363526, -10.092417741016035, -10.010275675986243, -10.256364331710998, -10.82664293926679, -11.711747539683753, -12.89714473989308, -14.363370350639403, -16.086348987930272, -18.037789390175682, -20.185648959921245, -22.49465990241252, -24.926908321809854, -27.44245676630988, -30.0]], \"lon\": [[40.0, 39.83580027646492, 39.34589726078058, 38.53833514692043, 37.42637408246778, 36.02827243735913, 34.36698700195454, 32.46979603717467, 30.367851366210488, 28.095666862447857, 25.69055173262064, 23.191997900667566, 20.641031551433098, 18.07953948184635, 15.549581320873708, 13.092698911573837, 10.749234195183293, 8.5576667975566, 6.55398219477366, 4.771080832617308, 3.238237902163185, 1.9806226419516157, 1.0188850597866228, 0.36881686017868986, 0.04109214499327152, 0.04109214499327152, 0.3688168601786934, 1.0188850597866264, 1.9806226419516193, 3.238237902163192, 4.771080832617315, 6.553982194773669, 8.55766679755661, 10.749234195183298, 13.09269891157385, 15.549581320873713, 18.079539481846368, 20.641031551433105, 23.191997900667587, 25.690551732620655, 28.095666862447878, 30.367851366210502, 32.469796037174675, 34.366987001954556, 36.028272437359135, 37.42637408246779, 38.53833514692043, 39.34589726078059, 39.83580027646492, 40.0], [40.0, 39.83580027646492, 39.34589726078058, 38.53833514692043, 37.42637408246778, 36.02827243735913, 34.36698700195454, 32.46979603717467, 30.367851366210488, 28.095666862447857, 25.69055173262064, 23.191997900667566, 20.641031551433098, 18.07953948184635, 15.549581320873708, 13.092698911573837, 10.749234195183293, 8.5576667975566, 6.55398219477366, 4.771080832617308, 3.238237902163185, 1.9806226419516157, 1.0188850597866228, 0.36881686017868986, 0.04109214499327152, 0.04109214499327152, 0.3688168601786934, 1.0188850597866264, 1.9806226419516193, 3.238237902163192, 4.771080832617315, 6.553982194773669, 8.55766679755661, 10.749234195183298, 13.09269891157385, 15.549581320873713, 18.079539481846368, 20.641031551433105, 23.191997900667587, 25.690551732620655, 28.095666862447878, 30.367851366210502, 32.469796037174675, 34.366987001954556, 36.028272437359135, 37.42637408246779, 38.53833514692043, 39.34589726078059, 39.83580027646492, 40.0]], \"opacity\": 0.3, \"type\": \"scattergeo\"}],                        {\"geo\": {\"coastlinecolor\": \"Black\", \"landcolor\": \"#9fc164\", \"lataxis\": {\"gridcolor\": \"black\", \"showgrid\": true}, \"lonaxis\": {\"gridcolor\": \"black\", \"showgrid\": true}, \"oceancolor\": \"#b2d9ff\", \"showcoastlines\": true, \"showlakes\": false, \"showland\": true, \"showocean\": true, \"showrivers\": false}, \"template\": {\"data\": {\"bar\": [{\"error_x\": {\"color\": \"#2a3f5f\"}, \"error_y\": {\"color\": \"#2a3f5f\"}, \"marker\": {\"line\": {\"color\": \"#E5ECF6\", \"width\": 0.5}}, \"type\": \"bar\"}], \"barpolar\": [{\"marker\": {\"line\": {\"color\": \"#E5ECF6\", \"width\": 0.5}}, \"type\": \"barpolar\"}], \"carpet\": [{\"aaxis\": {\"endlinecolor\": \"#2a3f5f\", \"gridcolor\": \"white\", \"linecolor\": \"white\", \"minorgridcolor\": \"white\", \"startlinecolor\": \"#2a3f5f\"}, \"baxis\": {\"endlinecolor\": \"#2a3f5f\", \"gridcolor\": \"white\", \"linecolor\": \"white\", \"minorgridcolor\": \"white\", \"startlinecolor\": \"#2a3f5f\"}, \"type\": \"carpet\"}], \"choropleth\": [{\"colorbar\": {\"outlinewidth\": 0, \"ticks\": \"\"}, \"type\": \"choropleth\"}], \"contour\": [{\"colorbar\": {\"outlinewidth\": 0, \"ticks\": \"\"}, \"colorscale\": [[0.0, \"#0d0887\"], [0.1111111111111111, \"#46039f\"], [0.2222222222222222, \"#7201a8\"], [0.3333333333333333, \"#9c179e\"], [0.4444444444444444, \"#bd3786\"], [0.5555555555555556, \"#d8576b\"], [0.6666666666666666, \"#ed7953\"], [0.7777777777777778, \"#fb9f3a\"], [0.8888888888888888, \"#fdca26\"], [1.0, \"#f0f921\"]], \"type\": \"contour\"}], \"contourcarpet\": [{\"colorbar\": {\"outlinewidth\": 0, \"ticks\": \"\"}, \"type\": \"contourcarpet\"}], \"heatmap\": [{\"colorbar\": {\"outlinewidth\": 0, \"ticks\": \"\"}, \"colorscale\": [[0.0, \"#0d0887\"], [0.1111111111111111, \"#46039f\"], [0.2222222222222222, \"#7201a8\"], [0.3333333333333333, \"#9c179e\"], [0.4444444444444444, \"#bd3786\"], [0.5555555555555556, \"#d8576b\"], [0.6666666666666666, \"#ed7953\"], [0.7777777777777778, \"#fb9f3a\"], [0.8888888888888888, \"#fdca26\"], [1.0, \"#f0f921\"]], \"type\": \"heatmap\"}], \"heatmapgl\": [{\"colorbar\": {\"outlinewidth\": 0, \"ticks\": \"\"}, \"colorscale\": [[0.0, \"#0d0887\"], [0.1111111111111111, \"#46039f\"], [0.2222222222222222, \"#7201a8\"], [0.3333333333333333, \"#9c179e\"], [0.4444444444444444, \"#bd3786\"], [0.5555555555555556, \"#d8576b\"], [0.6666666666666666, \"#ed7953\"], [0.7777777777777778, \"#fb9f3a\"], [0.8888888888888888, \"#fdca26\"], [1.0, \"#f0f921\"]], \"type\": \"heatmapgl\"}], \"histogram\": [{\"marker\": {\"colorbar\": {\"outlinewidth\": 0, \"ticks\": \"\"}}, \"type\": \"histogram\"}], \"histogram2d\": [{\"colorbar\": {\"outlinewidth\": 0, \"ticks\": \"\"}, \"colorscale\": [[0.0, \"#0d0887\"], [0.1111111111111111, \"#46039f\"], [0.2222222222222222, \"#7201a8\"], [0.3333333333333333, \"#9c179e\"], [0.4444444444444444, \"#bd3786\"], [0.5555555555555556, \"#d8576b\"], [0.6666666666666666, \"#ed7953\"], [0.7777777777777778, \"#fb9f3a\"], [0.8888888888888888, \"#fdca26\"], [1.0, \"#f0f921\"]], \"type\": \"histogram2d\"}], \"histogram2dcontour\": [{\"colorbar\": {\"outlinewidth\": 0, \"ticks\": \"\"}, \"colorscale\": [[0.0, \"#0d0887\"], [0.1111111111111111, \"#46039f\"], [0.2222222222222222, \"#7201a8\"], [0.3333333333333333, \"#9c179e\"], [0.4444444444444444, \"#bd3786\"], [0.5555555555555556, \"#d8576b\"], [0.6666666666666666, \"#ed7953\"], [0.7777777777777778, \"#fb9f3a\"], [0.8888888888888888, \"#fdca26\"], [1.0, \"#f0f921\"]], \"type\": \"histogram2dcontour\"}], \"mesh3d\": [{\"colorbar\": {\"outlinewidth\": 0, \"ticks\": \"\"}, \"type\": \"mesh3d\"}], \"parcoords\": [{\"line\": {\"colorbar\": {\"outlinewidth\": 0, \"ticks\": \"\"}}, \"type\": \"parcoords\"}], \"pie\": [{\"automargin\": true, \"type\": \"pie\"}], \"scatter\": [{\"marker\": {\"colorbar\": {\"outlinewidth\": 0, \"ticks\": \"\"}}, \"type\": \"scatter\"}], \"scatter3d\": [{\"line\": {\"colorbar\": {\"outlinewidth\": 0, \"ticks\": \"\"}}, \"marker\": {\"colorbar\": {\"outlinewidth\": 0, \"ticks\": \"\"}}, \"type\": \"scatter3d\"}], \"scattercarpet\": [{\"marker\": {\"colorbar\": {\"outlinewidth\": 0, \"ticks\": \"\"}}, \"type\": \"scattercarpet\"}], \"scattergeo\": [{\"marker\": {\"colorbar\": {\"outlinewidth\": 0, \"ticks\": \"\"}}, \"type\": \"scattergeo\"}], \"scattergl\": [{\"marker\": {\"colorbar\": {\"outlinewidth\": 0, \"ticks\": \"\"}}, \"type\": \"scattergl\"}], \"scattermapbox\": [{\"marker\": {\"colorbar\": {\"outlinewidth\": 0, \"ticks\": \"\"}}, \"type\": \"scattermapbox\"}], \"scatterpolar\": [{\"marker\": {\"colorbar\": {\"outlinewidth\": 0, \"ticks\": \"\"}}, \"type\": \"scatterpolar\"}], \"scatterpolargl\": [{\"marker\": {\"colorbar\": {\"outlinewidth\": 0, \"ticks\": \"\"}}, \"type\": \"scatterpolargl\"}], \"scatterternary\": [{\"marker\": {\"colorbar\": {\"outlinewidth\": 0, \"ticks\": \"\"}}, \"type\": \"scatterternary\"}], \"surface\": [{\"colorbar\": {\"outlinewidth\": 0, \"ticks\": \"\"}, \"colorscale\": [[0.0, \"#0d0887\"], [0.1111111111111111, \"#46039f\"], [0.2222222222222222, \"#7201a8\"], [0.3333333333333333, \"#9c179e\"], [0.4444444444444444, \"#bd3786\"], [0.5555555555555556, \"#d8576b\"], [0.6666666666666666, \"#ed7953\"], [0.7777777777777778, \"#fb9f3a\"], [0.8888888888888888, \"#fdca26\"], [1.0, \"#f0f921\"]], \"type\": \"surface\"}], \"table\": [{\"cells\": {\"fill\": {\"color\": \"#EBF0F8\"}, \"line\": {\"color\": \"white\"}}, \"header\": {\"fill\": {\"color\": \"#C8D4E3\"}, \"line\": {\"color\": \"white\"}}, \"type\": \"table\"}]}, \"layout\": {\"annotationdefaults\": {\"arrowcolor\": \"#2a3f5f\", \"arrowhead\": 0, \"arrowwidth\": 1}, \"autotypenumbers\": \"strict\", \"coloraxis\": {\"colorbar\": {\"outlinewidth\": 0, \"ticks\": \"\"}}, \"colorscale\": {\"diverging\": [[0, \"#8e0152\"], [0.1, \"#c51b7d\"], [0.2, \"#de77ae\"], [0.3, \"#f1b6da\"], [0.4, \"#fde0ef\"], [0.5, \"#f7f7f7\"], [0.6, \"#e6f5d0\"], [0.7, \"#b8e186\"], [0.8, \"#7fbc41\"], [0.9, \"#4d9221\"], [1, \"#276419\"]], \"sequential\": [[0.0, \"#0d0887\"], [0.1111111111111111, \"#46039f\"], [0.2222222222222222, \"#7201a8\"], [0.3333333333333333, \"#9c179e\"], [0.4444444444444444, \"#bd3786\"], [0.5555555555555556, \"#d8576b\"], [0.6666666666666666, \"#ed7953\"], [0.7777777777777778, \"#fb9f3a\"], [0.8888888888888888, \"#fdca26\"], [1.0, \"#f0f921\"]], \"sequentialminus\": [[0.0, \"#0d0887\"], [0.1111111111111111, \"#46039f\"], [0.2222222222222222, \"#7201a8\"], [0.3333333333333333, \"#9c179e\"], [0.4444444444444444, \"#bd3786\"], [0.5555555555555556, \"#d8576b\"], [0.6666666666666666, \"#ed7953\"], [0.7777777777777778, \"#fb9f3a\"], [0.8888888888888888, \"#fdca26\"], [1.0, \"#f0f921\"]]}, \"colorway\": [\"#636efa\", \"#EF553B\", \"#00cc96\", \"#ab63fa\", \"#FFA15A\", \"#19d3f3\", \"#FF6692\", \"#B6E880\", \"#FF97FF\", \"#FECB52\"], \"font\": {\"color\": \"#2a3f5f\"}, \"geo\": {\"bgcolor\": \"white\", \"lakecolor\": \"white\", \"landcolor\": \"#E5ECF6\", \"showlakes\": true, \"showland\": true, \"subunitcolor\": \"white\"}, \"hoverlabel\": {\"align\": \"left\"}, \"hovermode\": \"closest\", \"mapbox\": {\"style\": \"light\"}, \"paper_bgcolor\": \"white\", \"plot_bgcolor\": \"#E5ECF6\", \"polar\": {\"angularaxis\": {\"gridcolor\": \"white\", \"linecolor\": \"white\", \"ticks\": \"\"}, \"bgcolor\": \"#E5ECF6\", \"radialaxis\": {\"gridcolor\": \"white\", \"linecolor\": \"white\", \"ticks\": \"\"}}, \"scene\": {\"xaxis\": {\"backgroundcolor\": \"#E5ECF6\", \"gridcolor\": \"white\", \"gridwidth\": 2, \"linecolor\": \"white\", \"showbackground\": true, \"ticks\": \"\", \"zerolinecolor\": \"white\"}, \"yaxis\": {\"backgroundcolor\": \"#E5ECF6\", \"gridcolor\": \"white\", \"gridwidth\": 2, \"linecolor\": \"white\", \"showbackground\": true, \"ticks\": \"\", \"zerolinecolor\": \"white\"}, \"zaxis\": {\"backgroundcolor\": \"#E5ECF6\", \"gridcolor\": \"white\", \"gridwidth\": 2, \"linecolor\": \"white\", \"showbackground\": true, \"ticks\": \"\", \"zerolinecolor\": \"white\"}}, \"shapedefaults\": {\"line\": {\"color\": \"#2a3f5f\"}}, \"ternary\": {\"aaxis\": {\"gridcolor\": \"white\", \"linecolor\": \"white\", \"ticks\": \"\"}, \"baxis\": {\"gridcolor\": \"white\", \"linecolor\": \"white\", \"ticks\": \"\"}, \"bgcolor\": \"#E5ECF6\", \"caxis\": {\"gridcolor\": \"white\", \"linecolor\": \"white\", \"ticks\": \"\"}}, \"title\": {\"x\": 0.05}, \"xaxis\": {\"automargin\": true, \"gridcolor\": \"white\", \"linecolor\": \"white\", \"ticks\": \"\", \"title\": {\"standoff\": 15}, \"zerolinecolor\": \"white\", \"zerolinewidth\": 2}, \"yaxis\": {\"automargin\": true, \"gridcolor\": \"white\", \"linecolor\": \"white\", \"ticks\": \"\", \"title\": {\"standoff\": 15}, \"zerolinecolor\": \"white\", \"zerolinewidth\": 2}}}, \"title\": {\"text\": \"Groundtrack\"}},                        {\"responsive\": true}                    ).then(function(){\n",
       "                            \n",
       "var gd = document.getElementById('11a7dd36-c484-4970-8738-d6bc8241943f');\n",
       "var x = new MutationObserver(function (mutations, observer) {{\n",
       "        var display = window.getComputedStyle(gd).display;\n",
       "        if (!display || display === 'none') {{\n",
       "            console.log([gd, 'removed!']);\n",
       "            Plotly.purge(gd);\n",
       "            observer.disconnect();\n",
       "        }}\n",
       "}});\n",
       "\n",
       "// Listen for the removal of the full notebook cells\n",
       "var notebookContainer = gd.closest('#notebook-container');\n",
       "if (notebookContainer) {{\n",
       "    x.observe(notebookContainer, {childList: true});\n",
       "}}\n",
       "\n",
       "// Listen for the clearing of the current output cell\n",
       "var outputEl = gd.closest('.output');\n",
       "if (outputEl) {{\n",
       "    x.observe(outputEl, {childList: true});\n",
       "}}\n",
       "\n",
       "                        })                };                });            </script>        </div>"
      ]
     },
     "metadata": {},
     "output_type": "display_data"
    }
   ],
   "source": [
    "theta = np.linspace(0,2*np.pi)\n",
    "#theta = np.hstack(theta, theta[0])\n",
    "gp.fig.add_scattergeo(fill='toself',fillcolor='blue', \n",
    "                      lat=[np.flipud(30+20*np.sin(theta)),np.flipud(-30+20*np.sin(theta))],\n",
    "                      lon=[np.flipud(20+20*np.cos(theta)),np.flipud(20+20*np.cos(theta))],opacity=0.3)"
   ]
  },
  {
   "cell_type": "code",
   "execution_count": 18,
   "metadata": {},
   "outputs": [
    {
     "data": {
      "text/plain": [
       "array([0.        , 0.12822827, 0.25645654, 0.38468481, 0.51291309,\n",
       "       0.64114136, 0.76936963, 0.8975979 , 1.02582617, 1.15405444,\n",
       "       1.28228272, 1.41051099, 1.53873926, 1.66696753, 1.7951958 ,\n",
       "       1.92342407, 2.05165235, 2.17988062, 2.30810889, 2.43633716,\n",
       "       2.56456543, 2.6927937 , 2.82102197, 2.94925025, 3.07747852,\n",
       "       3.20570679, 3.33393506, 3.46216333, 3.5903916 , 3.71861988,\n",
       "       3.84684815, 3.97507642, 4.10330469, 4.23153296, 4.35976123,\n",
       "       4.48798951, 4.61621778, 4.74444605, 4.87267432, 5.00090259,\n",
       "       5.12913086, 5.25735913, 5.38558741, 5.51381568, 5.64204395,\n",
       "       5.77027222, 5.89850049, 6.02672876, 6.15495704, 6.28318531,\n",
       "       0.        ])"
      ]
     },
     "execution_count": 18,
     "metadata": {},
     "output_type": "execute_result"
    }
   ],
   "source": [
    "import numpy as np\n",
    "theta = np.linspace(0,2*np.pi)\n",
    "theta = np.hstack([theta, theta[0]])\n",
    "theta.np.f"
   ]
  },
  {
   "cell_type": "code",
   "execution_count": 36,
   "metadata": {},
   "outputs": [],
   "source": []
  },
  {
   "cell_type": "code",
   "execution_count": 37,
   "metadata": {},
   "outputs": [
    {
     "data": {
      "text/plain": [
       "array([6.28318531, 6.15495704, 6.02672876, 5.89850049, 5.77027222,\n",
       "       5.64204395, 5.51381568, 5.38558741, 5.25735913, 5.12913086,\n",
       "       5.00090259, 4.87267432, 4.74444605, 4.61621778, 4.48798951,\n",
       "       4.35976123, 4.23153296, 4.10330469, 3.97507642, 3.84684815,\n",
       "       3.71861988, 3.5903916 , 3.46216333, 3.33393506, 3.20570679,\n",
       "       3.07747852, 2.94925025, 2.82102197, 2.6927937 , 2.56456543,\n",
       "       2.43633716, 2.30810889, 2.17988062, 2.05165235, 1.92342407,\n",
       "       1.7951958 , 1.66696753, 1.53873926, 1.41051099, 1.28228272,\n",
       "       1.15405444, 1.02582617, 0.8975979 , 0.76936963, 0.64114136,\n",
       "       0.51291309, 0.38468481, 0.25645654, 0.12822827, 0.        ])"
      ]
     },
     "execution_count": 37,
     "metadata": {},
     "output_type": "execute_result"
    }
   ],
   "source": [
    "theta"
   ]
  },
  {
   "cell_type": "code",
   "execution_count": null,
   "metadata": {},
   "outputs": [],
   "source": []
  }
 ],
 "metadata": {
  "kernelspec": {
   "display_name": "Python 3",
   "language": "python",
   "name": "python3"
  },
  "language_info": {
   "codemirror_mode": {
    "name": "ipython",
    "version": 3
   },
   "file_extension": ".py",
   "mimetype": "text/x-python",
   "name": "python",
   "nbconvert_exporter": "python",
   "pygments_lexer": "ipython3",
   "version": "3.8.3"
  }
 },
 "nbformat": 4,
 "nbformat_minor": 4
}
